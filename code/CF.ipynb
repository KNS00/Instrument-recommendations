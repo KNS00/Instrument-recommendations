{
 "cells": [
  {
   "cell_type": "markdown",
   "metadata": {
    "vscode": {
     "languageId": "plaintext"
    }
   },
   "source": [
    "# Section 2 and 3\n",
    "## Fine-tuning and evaluation of the KNN Baseline and SVD CF systems."
   ]
  },
  {
   "cell_type": "code",
   "execution_count": 2,
   "metadata": {},
   "outputs": [],
   "source": [
    "from surprise.prediction_algorithms.predictions import Prediction\n",
    "from typing import Dict, List\n",
    "import numpy as np\n",
    "import pandas as pd"
   ]
  },
  {
   "cell_type": "code",
   "execution_count": 38,
   "metadata": {},
   "outputs": [],
   "source": [
    "test = pd.read_table('test_new.tsv',sep='\\s+',header=0).sort_values(['user_id', 'item_id', 'rating', 'timestamp'])\n",
    "train = pd.read_table('train_new.tsv',sep='\\s+',header=0).sort_values(['user_id', 'item_id', 'rating', 'timestamp'])"
   ]
  },
  {
   "cell_type": "code",
   "execution_count": 11,
   "metadata": {},
   "outputs": [],
   "source": [
    "from surprise import Reader, Dataset\n",
    "import random\n",
    "\n",
    "reader = Reader(rating_scale=(1, 5))\n",
    "training_matrix = Dataset.load_from_df(train[['user_id', 'item_id', 'rating']], reader)\n",
    "\n",
    "def set_seeds(seed=0):\n",
    "    random.seed(seed)\n",
    "    np.random.seed(seed)\n",
    "set_seeds()"
   ]
  },
  {
   "cell_type": "markdown",
   "metadata": {},
   "source": [
    "## TopPop recommender system"
   ]
  },
  {
   "cell_type": "code",
   "execution_count": null,
   "metadata": {},
   "outputs": [],
   "source": [
    "def top_pop(train_data: pd.DataFrame, k: int) -> Dict[str, List[str]]:\n",
    "\n",
    "    freq = train_data[train_data['rating'] >= 3].groupby('item_id').size().reset_index(name='freq')\n",
    "    freq = freq.sort_values(['freq', 'item_id'], ascending=[False, True], kind='stable')\n",
    "\n",
    "    top_k_items = freq['item_id'].head(k).tolist()\n",
    "    user_ids = train_data['user_id'].unique()\n",
    "    recommendations = {uid: top_k_items for uid in user_ids}\n",
    "    \n",
    "    return recommendations"
   ]
  },
  {
   "cell_type": "markdown",
   "metadata": {},
   "source": [
    "# KNNBaseline"
   ]
  },
  {
   "cell_type": "markdown",
   "metadata": {},
   "source": [
    "## Initalization of parameters for fine-tuning of hyperparameters\n"
   ]
  },
  {
   "cell_type": "code",
   "execution_count": 13,
   "metadata": {},
   "outputs": [],
   "source": [
    "from surprise.model_selection import KFold\n",
    "kf = KFold(n_splits=5)\n",
    "mae_result = {}\n",
    "\n",
    "list_neighbour = [3, 5, 8, 10, 15, 20] \n",
    "settings = ['user_based', 'item_based']\n",
    "similarity_measures = [\"cosine\", \"msd\", \"pearson\", \"pearson_baseline\"]"
   ]
  },
  {
   "cell_type": "markdown",
   "metadata": {},
   "source": [
    "## Fine-tuning"
   ]
  },
  {
   "cell_type": "code",
   "execution_count": 14,
   "metadata": {},
   "outputs": [],
   "source": [
    "from surprise import KNNBaseline\n",
    "from sklearn.metrics import mean_absolute_error as mae\n",
    "from surprise.model_selection import KFold\n",
    "\n",
    "set_seeds()\n",
    "\n",
    "precision_at_k_results = {}\n",
    "\n",
    "for neighbour in list_neighbour:\n",
    "    mae_result[neighbour] = {}\n",
    "    for setting in settings:\n",
    "        mae_result[neighbour][setting] = {}\n",
    "        for sim in similarity_measures:\n",
    "            mae_result[neighbour][setting][sim] = {}\n",
    "            knn_algo = KNNBaseline(k=neighbour,\n",
    "                                sim_options={\"name\": sim,\n",
    "                                             \"user_based\": True if setting == 'user_based' else False if setting == 'item_based' else ValueError  \n",
    "                                             },\n",
    "                                bsl_options = {\"method\": \"als\", \"n_epochs\": 10, \"reg_u\": 15, \"reg_i\": 10},\n",
    "                                verbose=False,\n",
    "                                random_state=0)\n",
    "            for fold, (trainset, testset) in enumerate(kf.split(training_matrix)):\n",
    "                knn_algo.fit(trainset)\n",
    "                predictions_KNN = knn_algo.test(testset)\n",
    "                df_pred_KNN = pd.DataFrame(predictions_KNN)\n",
    "                mae_result[neighbour][setting][sim][fold] = mae(y_true=df_pred_KNN['r_ui'],\n",
    "                                                                  y_pred=df_pred_KNN['est']) \n",
    "\n",
    "knn_final_results = []\n",
    "\n",
    "for neighbour, setting_dict in mae_result.items():\n",
    "    #final_results[neighbour] = {}\n",
    "    for user_based_val, sim_dict in setting_dict.items():\n",
    "        #final_results[neighbour][user_based_val] = {}\n",
    "        for sim, fold_dict in sim_dict.items():\n",
    "            fold_scores = list(fold_dict.values())\n",
    "            avg_mae = np.mean(fold_scores)\n",
    "            std_mae = np.std(fold_scores)\n",
    "            knn_final_results.append((neighbour, user_based_val, sim, avg_mae))\n",
    "        #    final_results[neighbour][user_based_val][sim] = avg_rmse"
   ]
  },
  {
   "cell_type": "markdown",
   "metadata": {},
   "source": [
    "## Find the best parameters from the fine-tuning"
   ]
  },
  {
   "cell_type": "code",
   "execution_count": 16,
   "metadata": {},
   "outputs": [
    {
     "name": "stdout",
     "output_type": "stream",
     "text": [
      "   cosine    msd pearson pearson_baseline\n",
      "k                                        \n",
      "3   0.629  0.615   0.626            0.616\n",
      "5   0.622  0.608   0.621            0.616\n",
      "8   0.616  0.605   0.619            0.609\n",
      "10  0.613  0.601   0.621             0.62\n",
      "15  0.614  0.603   0.619            0.611\n",
      "20   0.61  0.604   0.619            0.618\n",
      "\\begin{tabular}{lllll}\n",
      "\\toprule\n",
      " & cosine & msd & pearson & pearson_baseline \\\\\n",
      "k &  &  &  &  \\\\\n",
      "\\midrule\n",
      "3 & 0.629000 & 0.615000 & 0.626000 & 0.616000 \\\\\n",
      "5 & 0.622000 & 0.608000 & 0.621000 & 0.616000 \\\\\n",
      "8 & 0.616000 & 0.605000 & 0.619000 & 0.609000 \\\\\n",
      "10 & 0.613000 & 0.601000 & 0.621000 & 0.620000 \\\\\n",
      "15 & 0.614000 & 0.603000 & 0.619000 & 0.611000 \\\\\n",
      "20 & 0.610000 & 0.604000 & 0.619000 & 0.618000 \\\\\n",
      "\\bottomrule\n",
      "\\end{tabular}\n",
      "\n"
     ]
    }
   ],
   "source": [
    "k_values = [3, 5, 8, 10, 15, 20]\n",
    "similarity_measures = ['cosine', 'msd', 'pearson', 'pearson_baseline']\n",
    "user_df = pd.DataFrame(index=k_values, columns=similarity_measures)\n",
    "user_df.index.name = 'k'\n",
    "item_df = user_df.copy()\n",
    "\n",
    "user_based_results = [result for result in knn_final_results if result[1] == 'user_based']\n",
    "item_based_results = [result for result in knn_final_results if result[1] == 'item_based']\n",
    "\n",
    "for result in user_based_results:\n",
    "    k = round(result[0], 3)\n",
    "    similarity = result[2]\n",
    "    mae = round(result[3], 3)\n",
    "    user_df.at[k, similarity] = round(mae, 3)\n",
    "\n",
    "for result in item_based_results:\n",
    "    k = round(result[0], 3)\n",
    "    similarity = result[2]\n",
    "    mae = round(result[3], 3)\n",
    "    item_df.at[k, similarity] = round(mae, 3)\n",
    "\n",
    "print(user_df)\n",
    "print(user_df.to_latex())"
   ]
  },
  {
   "cell_type": "code",
   "execution_count": null,
   "metadata": {},
   "outputs": [
    {
     "name": "stdout",
     "output_type": "stream",
     "text": [
      "Best MAE: 0.5688\n"
     ]
    }
   ],
   "source": [
    "knn_best_setting = min(knn_final_results, key=lambda x: x[3])\n",
    "print(f\"Best MAE: {knn_best_setting[3]:.4f}\")"
   ]
  },
  {
   "cell_type": "markdown",
   "metadata": {},
   "source": [
    "## SVD Model"
   ]
  },
  {
   "cell_type": "markdown",
   "metadata": {},
   "source": [
    "## Initalization of parameters for fine-tuning of hyperparameters\n"
   ]
  },
  {
   "cell_type": "code",
   "execution_count": 18,
   "metadata": {},
   "outputs": [],
   "source": [
    "kf = KFold(n_splits=5)\n",
    "n_factors = [5, 10, 20, 30, 40]\n",
    "n_epochs = [10, 20, 30, 40, 50, 60]\n",
    "mae_result = {}"
   ]
  },
  {
   "cell_type": "code",
   "execution_count": 19,
   "metadata": {},
   "outputs": [],
   "source": [
    "from surprise import SVD, Reader, Dataset\n",
    "from sklearn.metrics import mean_absolute_error as mae\n",
    "from surprise.model_selection import KFold\n",
    "\n",
    "set_seeds()\n",
    "\n",
    "for latent_factor in n_factors:\n",
    "    mae_result[latent_factor] = {}\n",
    "    for epochs in n_epochs:\n",
    "        mae_result[latent_factor][epochs] = {}\n",
    "        svd_algo = SVD(n_epochs=epochs, n_factors=latent_factor, random_state=0, lr_all=0.005, reg_all=0.1, biased=True)\n",
    "        for fold, (trainset, testset) in enumerate(kf.split(training_matrix)):\n",
    "            svd_algo.fit(trainset)\n",
    "            predictions_KNN = svd_algo.test(testset)\n",
    "            df_pred_KNN = pd.DataFrame(predictions_KNN)\n",
    "            mae_result[latent_factor][epochs][fold] = mae(y_true=df_pred_KNN['r_ui'],\n",
    "                                                                  y_pred=df_pred_KNN['est']) \n",
    "            final_results = []\n",
    "\n",
    "for latent_factor, epochs_dict in mae_result.items():\n",
    "        for sim, fold_dict in sim_dict.items():\n",
    "            fold_scores = list(fold_dict.values())\n",
    "            avg_rmse = np.mean(fold_scores)\n",
    "            std_rmse = np.std(fold_scores)\n",
    "            final_results.append((latent_factor, epochs_dict, avg_rmse))"
   ]
  },
  {
   "cell_type": "code",
   "execution_count": 20,
   "metadata": {},
   "outputs": [
    {
     "name": "stdout",
     "output_type": "stream",
     "text": [
      "\n",
      "Average MAE for each combination:\n",
      "\n",
      "Latent Factors: 5\n",
      "  Epochs: 10, RMSE: 0.7752\n",
      "  Epochs: 20, RMSE: 0.7606\n",
      "  Epochs: 30, RMSE: 0.7546\n",
      "  Epochs: 40, RMSE: 0.7535\n",
      "  Epochs: 50, RMSE: 0.7528\n",
      "  Epochs: 60, RMSE: 0.7517\n",
      "\n",
      "Latent Factors: 10\n",
      "  Epochs: 10, RMSE: 0.7759\n",
      "  Epochs: 20, RMSE: 0.7607\n",
      "  Epochs: 30, RMSE: 0.7542\n",
      "  Epochs: 40, RMSE: 0.7541\n",
      "  Epochs: 50, RMSE: 0.7531\n",
      "  Epochs: 60, RMSE: 0.7528\n",
      "\n",
      "Latent Factors: 20\n",
      "  Epochs: 10, RMSE: 0.7750\n",
      "  Epochs: 20, RMSE: 0.7610\n",
      "  Epochs: 30, RMSE: 0.7558\n",
      "  Epochs: 40, RMSE: 0.7527\n",
      "  Epochs: 50, RMSE: 0.7505\n",
      "  Epochs: 60, RMSE: 0.7525\n",
      "\n",
      "Latent Factors: 30\n",
      "  Epochs: 10, RMSE: 0.7762\n",
      "  Epochs: 20, RMSE: 0.7625\n",
      "  Epochs: 30, RMSE: 0.7556\n",
      "  Epochs: 40, RMSE: 0.7531\n",
      "  Epochs: 50, RMSE: 0.7520\n",
      "  Epochs: 60, RMSE: 0.7532\n",
      "\n",
      "Latent Factors: 40\n",
      "  Epochs: 10, RMSE: 0.7764\n",
      "  Epochs: 20, RMSE: 0.7622\n",
      "  Epochs: 30, RMSE: 0.7572\n",
      "  Epochs: 40, RMSE: 0.7538\n",
      "  Epochs: 50, RMSE: 0.7521\n",
      "  Epochs: 60, RMSE: 0.7513\n",
      "\n",
      "Best Parameters:\n",
      "Latent Factors: 20\n",
      "Epochs: 50\n",
      "Best MAE: 0.7505\n"
     ]
    }
   ],
   "source": [
    "avg_mae = {}\n",
    "\n",
    "for latent_factor in n_factors:\n",
    "    avg_mae[latent_factor] = {}\n",
    "    for epochs in n_epochs:\n",
    "        # Get all fold MSEs for this combination\n",
    "        fold_mses = list(mae_result[latent_factor][epochs].values())\n",
    "        \n",
    "        # Convert MSE to RMSE and average\n",
    "        fold_rmses = [np.sqrt(mse) for mse in fold_mses]\n",
    "        avg_rmse = np.mean(fold_rmses)\n",
    "        avg_mae[latent_factor][epochs] = avg_rmse\n",
    "\n",
    "best_mae = float('inf')\n",
    "\n",
    "for latent_factor in n_factors:\n",
    "    for epochs in n_epochs:\n",
    "        current_mae = avg_mae[latent_factor][epochs]\n",
    "        if current_mae < best_mae:\n",
    "            best_mae = current_mae\n",
    "            best_params = {'n_factors': latent_factor, 'n_epochs': epochs}\n",
    "\n",
    "print(\"\\nAverage MAE for each combination:\")\n",
    "for latent_factor in n_factors:\n",
    "    print(f\"\\nLatent Factors: {latent_factor}\")\n",
    "    for epochs in n_epochs:\n",
    "        print(f\"  Epochs: {epochs}, RMSE: {avg_mae[latent_factor][epochs]:.4f}\")\n",
    "\n",
    "print(\"\\nBest Parameters:\")\n",
    "print(f\"Latent Factors: {best_params['n_factors']}\")\n",
    "print(f\"Epochs: {best_params['n_epochs']}\")\n",
    "print(f\"Best MAE: {best_mae:.4f}\")\n"
   ]
  },
  {
   "cell_type": "code",
   "execution_count": null,
   "metadata": {},
   "outputs": [
    {
     "name": "stdout",
     "output_type": "stream",
     "text": [
      "\\begin{tabular}{lrrrrr}\n",
      "\\toprule\n",
      "Epochs & 5 & 10 & 20 & 30 & 40 \\\\\n",
      "Latent Factors &  &  &  &  &  \\\\\n",
      "\\midrule\n",
      "10 & 0.775000 & 0.776000 & 0.775000 & 0.776000 & 0.776000 \\\\\n",
      "20 & 0.761000 & 0.761000 & 0.761000 & 0.763000 & 0.762000 \\\\\n",
      "30 & 0.755000 & 0.754000 & 0.756000 & 0.756000 & 0.757000 \\\\\n",
      "40 & 0.753000 & 0.754000 & 0.753000 & 0.753000 & 0.754000 \\\\\n",
      "50 & 0.753000 & 0.753000 & 0.751000 & 0.752000 & 0.752000 \\\\\n",
      "60 & 0.752000 & 0.753000 & 0.752000 & 0.753000 & 0.751000 \\\\\n",
      "\\bottomrule\n",
      "\\end{tabular}\n",
      "\n"
     ]
    }
   ],
   "source": [
    "df = pd.DataFrame(avg_mae)\n",
    "df.columns.name = 'Epochs'\n",
    "df.index.name = 'Latent Factors'\n",
    "\n",
    "df = df.round(3)  \n",
    "df\n",
    "print(df.to_latex())"
   ]
  },
  {
   "cell_type": "markdown",
   "metadata": {},
   "source": [
    "# Running the models with the optimal hyperparameters to the whole training set"
   ]
  },
  {
   "cell_type": "code",
   "execution_count": 22,
   "metadata": {},
   "outputs": [],
   "source": [
    "full_train_set = training_matrix.build_full_trainset()\n"
   ]
  },
  {
   "cell_type": "code",
   "execution_count": 23,
   "metadata": {},
   "outputs": [],
   "source": [
    "set_seeds()\n",
    "\n",
    "best_knn = KNNBaseline(k=10,\n",
    "                                sim_options={\"name\": 'MSD',\n",
    "                                             \"user_based\": False\n",
    "                                             },\n",
    "                                bsl_options = {\"method\": \"als\", \"n_epochs\": 10, \"reg_u\": 15, \"reg_i\": 10},\n",
    "                                verbose=False,\n",
    "                                random_state=0)\n",
    "best_knn = best_knn.fit(full_train_set)"
   ]
  },
  {
   "cell_type": "code",
   "execution_count": 24,
   "metadata": {},
   "outputs": [],
   "source": [
    "set_seeds()\n",
    "\n",
    "best_svd = SVD(n_epochs=50, n_factors=20, random_state=0, lr_all=0.005, reg_all=0.02, biased=True)\n",
    "best_svd = best_svd.fit(full_train_set)"
   ]
  },
  {
   "cell_type": "markdown",
   "metadata": {},
   "source": [
    "# Predicting non-rated items for each user"
   ]
  },
  {
   "cell_type": "code",
   "execution_count": null,
   "metadata": {},
   "outputs": [],
   "source": [
    "# Get all unique item IDs in the dataset\n",
    "all_item_ids = set(train['item_id'].unique())\n",
    "\n",
    "# For each user, find items they haven't rated\n",
    "user_non_rated = {}\n",
    "for user_id in train['user_id'].unique():\n",
    "    rated_items = train[train['user_id'] == user_id]['item_id'].unique()\n",
    "    non_rated = list(all_item_ids - set(rated_items))\n",
    "    user_non_rated[user_id] = non_rated\n"
   ]
  },
  {
   "cell_type": "code",
   "execution_count": 26,
   "metadata": {},
   "outputs": [],
   "source": [
    "knn_user_rankings = {}\n",
    "\n",
    "for user_id, non_rated_items in user_non_rated.items():\n",
    "    predictions = [best_knn.predict(user_id, item_id).est for item_id in non_rated_items]\n",
    "    \n",
    "    item_ratings = list(zip(non_rated_items, predictions))\n",
    "    item_ratings.sort(key=lambda x: x[1], reverse=True) \n",
    "    \n",
    "    knn_user_rankings[user_id] = [item_id for item_id, _ in item_ratings]"
   ]
  },
  {
   "cell_type": "code",
   "execution_count": 27,
   "metadata": {},
   "outputs": [],
   "source": [
    "import json\n",
    "with open('knn_user_rankings.json', 'w') as fp:\n",
    "    json.dump(knn_user_rankings, fp)"
   ]
  },
  {
   "cell_type": "code",
   "execution_count": 28,
   "metadata": {},
   "outputs": [],
   "source": [
    "svd_user_rankings = {}\n",
    "\n",
    "for user_id, non_rated_items in user_non_rated.items():\n",
    "    predictions = [best_svd.predict(user_id, item_id).est for item_id in non_rated_items]\n",
    "    \n",
    "    item_ratings = list(zip(non_rated_items, predictions))\n",
    "    item_ratings.sort(key=lambda x: x[1], reverse=True)\n",
    "    \n",
    "    svd_user_rankings[user_id] = [item_id for item_id, _ in item_ratings]"
   ]
  },
  {
   "cell_type": "markdown",
   "metadata": {},
   "source": [
    "# Evaluation (week 8)"
   ]
  },
  {
   "cell_type": "code",
   "execution_count": 29,
   "metadata": {},
   "outputs": [],
   "source": [
    "from sklearn.metrics import mean_squared_error as mse"
   ]
  },
  {
   "cell_type": "code",
   "execution_count": 30,
   "metadata": {},
   "outputs": [
    {
     "name": "stdout",
     "output_type": "stream",
     "text": [
      "RMSE: 1.0810\n"
     ]
    }
   ],
   "source": [
    "preds = []\n",
    "for row in test[['user_id', 'item_id']].itertuples(index=False):\n",
    "    user_id = row.user_id\n",
    "    item_id = row.item_id\n",
    "    \n",
    "    pred = best_knn.predict(user_id, item_id)\n",
    "    preds.append(pred.est) \n",
    "rmse = np.sqrt(mse(y_true=test['rating'], y_pred=preds))\n",
    "print(f\"RMSE: {rmse:.4f}\")\n"
   ]
  },
  {
   "cell_type": "code",
   "execution_count": 31,
   "metadata": {},
   "outputs": [
    {
     "name": "stdout",
     "output_type": "stream",
     "text": [
      "RMSE: 0.9922\n"
     ]
    }
   ],
   "source": [
    "preds = []\n",
    "# Iterate over rows using .itertuples()\n",
    "for row in test[['user_id', 'item_id']].itertuples(index=False):\n",
    "    user_id = row.user_id\n",
    "    item_id = row.item_id\n",
    "    \n",
    "    pred = best_svd.predict(user_id, item_id)\n",
    "    preds.append(pred.est) \n",
    "rmse = np.sqrt(mse(y_true=test['rating'], y_pred=preds))\n",
    "print(f\"RMSE: {rmse:.4f}\")"
   ]
  },
  {
   "cell_type": "markdown",
   "metadata": {},
   "source": [
    "# Computing utility-based measures"
   ]
  },
  {
   "cell_type": "code",
   "execution_count": null,
   "metadata": {},
   "outputs": [],
   "source": [
    "from collections import defaultdict\n",
    "test_ground_truth = defaultdict(set)\n",
    "test['relevant'] = (test['rating'] >= 3).astype(int)\n",
    "for uid, iid, rel in zip(test['user_id'], test['item_id'], test['relevant']):\n",
    "    if rel == 1:  \n",
    "        test_ground_truth[uid].add(iid)\n",
    "\n",
    "def compute_precision_at_k(top_recs, ground_truth, k=10):\n",
    "    top_recs = top_recs[:k]\n",
    "    ground_truth = ground_truth\n",
    "    hits = len(set(top_recs) & set(ground_truth))\n",
    "    return hits / k\n",
    "\n",
    "def compute_ap(top_recs, ground_truth):\n",
    "    ground_truth_set = set(ground_truth)    \n",
    "    G = len(ground_truth_set)\n",
    "    if G == 0:\n",
    "        return 0.0\n",
    "    cumulative_precision = 0.0\n",
    "    relevant_count = 0\n",
    "    for rank, item in enumerate(top_recs, 1):\n",
    "        if item in ground_truth_set:\n",
    "            relevant_count += 1\n",
    "            precision_at_k = relevant_count / rank  # P@k\n",
    "            cumulative_precision += precision_at_k  # Sum of P@k for relevant ranks\n",
    "    ap = cumulative_precision / G\n",
    "    return ap\n",
    "def compute_metrics(user_ids, top_recommendations, k=10, catalog = None):\n",
    "    hit_rates = []\n",
    "    precision_scores = []\n",
    "    aps = []\n",
    "    rrs = []\n",
    "    if catalog is None:\n",
    "        total_items_in_catalog = len(set(train['item_id']).union(set(test['item_id'])))\n",
    "    else:\n",
    "        total_items_in_catalog = catalog\n",
    "    recommended_items = set()\n",
    "    for user_id in user_ids:\n",
    "        ground_truth : set = test_ground_truth.get(user_id)\n",
    "        top_recs : set = top_recommendations.get(user_id)[:k]\n",
    "        recommended_items.update(list(top_recs))\n",
    "\n",
    "        if ground_truth is None: # :(\n",
    "            #continue\n",
    "            ground_truth = set()\n",
    "        #else:         \n",
    "        hit = False\n",
    "        hits = len(set(top_recs) & ground_truth)\n",
    "        hit = (hits > 0).real\n",
    "\n",
    "        precision_at_k = compute_precision_at_k(top_recs, ground_truth, k=10)    \n",
    "        precision_scores.append(precision_at_k)\n",
    "        \n",
    "        ap = compute_ap(top_recs, ground_truth)\n",
    "\n",
    "        for rank, item in enumerate(top_recs, 1):\n",
    "            if item in ground_truth:\n",
    "                rr = 1 / rank\n",
    "                break\n",
    "            else:\n",
    "                rr = 0\n",
    "        hit_rates.append(hit)            \n",
    "        aps.append(ap)\n",
    "        rrs.append(rr)\n",
    "    coverage =  len(recommended_items) / total_items_in_catalog\n",
    "    return {'PRECISION@k:': round(np.mean(precision_scores), 3), 'MAP@k:': round(np.mean(aps), 3), 'MRR@k:': round(np.mean(rrs), 3), 'Hit rate': round(np.mean(hit_rates), 3), 'Coverage': round(coverage, 3)}"
   ]
  },
  {
   "cell_type": "markdown",
   "metadata": {},
   "source": [
    "## Computing utilty-based measures for KNN Baseline"
   ]
  },
  {
   "cell_type": "code",
   "execution_count": 34,
   "metadata": {},
   "outputs": [
    {
     "data": {
      "text/plain": [
       "{'PRECISION@k:': 0.01,\n",
       " 'MAP@k:': 0.01,\n",
       " 'MRR@k:': 0.035,\n",
       " 'Hit rate': 0.092,\n",
       " 'Coverage': 0.639}"
      ]
     },
     "execution_count": 34,
     "metadata": {},
     "output_type": "execute_result"
    }
   ],
   "source": [
    "metrics = compute_metrics(test['user_id'].unique(), knn_user_rankings)\n",
    "metrics"
   ]
  },
  {
   "cell_type": "markdown",
   "metadata": {},
   "source": [
    "## Computing utilty-based measures for SVD"
   ]
  },
  {
   "cell_type": "code",
   "execution_count": 35,
   "metadata": {},
   "outputs": [
    {
     "data": {
      "text/plain": [
       "{'PRECISION@k:': 0.01,\n",
       " 'MAP@k:': 0.009,\n",
       " 'MRR@k:': 0.027,\n",
       " 'Hit rate': 0.092,\n",
       " 'Coverage': 0.284}"
      ]
     },
     "execution_count": 35,
     "metadata": {},
     "output_type": "execute_result"
    }
   ],
   "source": [
    "compute_metrics(test['user_id'].unique(), svd_user_rankings)"
   ]
  },
  {
   "cell_type": "markdown",
   "metadata": {},
   "source": [
    "## Computing utilty-based measures for TopPop"
   ]
  },
  {
   "cell_type": "code",
   "execution_count": 36,
   "metadata": {},
   "outputs": [
    {
     "data": {
      "text/plain": [
       "{'PRECISION@k:': 0.032,\n",
       " 'MAP@k:': 0.034,\n",
       " 'MRR@k:': 0.116,\n",
       " 'Hit rate': 0.254,\n",
       " 'Coverage': 0.019}"
      ]
     },
     "execution_count": 36,
     "metadata": {},
     "output_type": "execute_result"
    }
   ],
   "source": [
    "compute_metrics(test['user_id'].unique(), top_pop(train, 10))"
   ]
  },
  {
   "cell_type": "markdown",
   "metadata": {},
   "source": [
    "# Analysis on the effect of the long tail"
   ]
  },
  {
   "cell_type": "markdown",
   "metadata": {},
   "source": [
    "## Top 20 and bottom 20 users"
   ]
  },
  {
   "cell_type": "code",
   "execution_count": 39,
   "metadata": {},
   "outputs": [],
   "source": [
    "from collections import defaultdict\n",
    "# top 20 & bottom 20\n",
    "z = train['user_id'].value_counts(sort=True).reset_index()\n",
    "top_20_users = z[:int((len(z)/5))]\n",
    "last_20_users = z[int(len(z)/(4/3)):]\n",
    "test['relevant'] = (test['rating'] >= 3).astype(int)"
   ]
  },
  {
   "cell_type": "markdown",
   "metadata": {},
   "source": [
    "### TopPop"
   ]
  },
  {
   "cell_type": "code",
   "execution_count": 40,
   "metadata": {},
   "outputs": [],
   "source": [
    "def compute_hit_rate(users, user_rankings: Dict[str, List[str]],\n",
    "             ground_truth_vector: Dict[str, set[str]]) -> float:\n",
    "    hit_rates = []\n",
    "    for uid in users:\n",
    "        recommended = set(user_rankings)\n",
    "        relevant = ground_truth_vector[uid]\n",
    "        hit = len(recommended.intersection(relevant)) > 0\n",
    "        hit_rates.append(1 if hit else 0)\n",
    "    return np.mean(hit_rates)\n",
    "    "
   ]
  },
  {
   "cell_type": "code",
   "execution_count": 41,
   "metadata": {},
   "outputs": [
    {
     "data": {
      "text/plain": [
       "['B0BPJ4Q6FJ',\n",
       " 'B0BSGM6CQ9',\n",
       " 'B09857JRP2',\n",
       " 'B0BCK6L7S5',\n",
       " 'B0BTC9YJ2W',\n",
       " 'B08R5GM6YB',\n",
       " 'B0B95V41NR',\n",
       " 'B004XNK7AI',\n",
       " 'B08SJY4T7K',\n",
       " 'B09V91H5XM']"
      ]
     },
     "execution_count": 41,
     "metadata": {},
     "output_type": "execute_result"
    }
   ],
   "source": [
    "top_pop(train, 10).get('AF7CC34DK36SQJS7WXI44DREGWJA')[:10]"
   ]
  },
  {
   "cell_type": "code",
   "execution_count": 53,
   "metadata": {},
   "outputs": [
    {
     "name": "stdout",
     "output_type": "stream",
     "text": [
      "TopPop hit rate for the top 20: 0.05\n",
      "TopPop hit rate for the bottom 20: 0.35\n",
      "KNN Baseline hit rate for the top 20: 0.025\n",
      "KNN Baseline hit rate for the bottom 20: 0.08\n",
      "SVD hit rate for the top 20: 0.031\n",
      "SVD hit rate for the top 20: 0.13\n"
     ]
    }
   ],
   "source": [
    "top_hit_rate = compute_metrics(top_20_users['user_id'], top_pop(train, 10), 10).get('Hit rate')\n",
    "print(f'TopPop hit rate for the top 20: {top_hit_rate}')\n",
    "bottom_hit_rate = compute_metrics(last_20_users['user_id'], top_pop(train, 10), 10).get('Hit rate')\n",
    "print(f'TopPop hit rate for the bottom 20: {bottom_hit_rate}')\n",
    "\n",
    "knn_top_hit_rate = compute_metrics(top_20_users['user_id'], knn_user_rankings, 10).get('Hit rate')\n",
    "print(f'KNN Baseline hit rate for the top 20: {knn_top_hit_rate}')\n",
    "knn_bottom_hit_rate = compute_metrics(last_20_users['user_id'], knn_user_rankings, 10).get('Hit rate')\n",
    "print(f'KNN Baseline hit rate for the bottom 20: {knn_bottom_hit_rate}')\n",
    "\n",
    "\n",
    "svd_top_hit_rate = compute_metrics(top_20_users['user_id'], svd_user_rankings, 10).get('Hit rate')\n",
    "print(f'SVD hit rate for the top 20: {svd_top_hit_rate}')\n",
    "\n",
    "\n",
    "svd_bottom_hit_rate = compute_metrics(last_20_users['user_id'], svd_user_rankings, 10).get('Hit rate')\n",
    "print(f'SVD hit rate for the top 20: {svd_bottom_hit_rate}')"
   ]
  },
  {
   "cell_type": "markdown",
   "metadata": {},
   "source": [
    "## Top 20 and bottom 20 items"
   ]
  },
  {
   "cell_type": "markdown",
   "metadata": {},
   "source": [
    "### TopPop"
   ]
  },
  {
   "cell_type": "code",
   "execution_count": 59,
   "metadata": {},
   "outputs": [],
   "source": [
    "item_count = train['item_id'].value_counts(sort=True).reset_index()\n",
    "top_20_items = item_count[:round(len(item_count)/5)]\n",
    "last_20_items = item_count[(len(item_count) - round(len(item_count)/5)):]"
   ]
  },
  {
   "cell_type": "code",
   "execution_count": 60,
   "metadata": {},
   "outputs": [],
   "source": [
    "top_pop_recommendations = set(top_pop(train, k=10).get(next(iter(top_pop(train, k=10)))))"
   ]
  },
  {
   "cell_type": "code",
   "execution_count": 61,
   "metadata": {},
   "outputs": [
    {
     "name": "stdout",
     "output_type": "stream",
     "text": [
      "Coverage top 20, TopPop: 0.098\n"
     ]
    }
   ],
   "source": [
    "top_20_items_set = set(top_20_items['item_id'])\n",
    "num = top_pop_recommendations.intersection(top_20_items_set)\n",
    "coverage_top_20 = len(num) / len(top_20_items_set)\n",
    "print(f'Coverage top 20, TopPop: {round(coverage_top_20, 3)}')"
   ]
  },
  {
   "cell_type": "code",
   "execution_count": 62,
   "metadata": {},
   "outputs": [
    {
     "name": "stdout",
     "output_type": "stream",
     "text": [
      "Coverage bottom 20, TopPop: 0.0\n"
     ]
    }
   ],
   "source": [
    "bottom_20_items_set = set(last_20_items['item_id'])\n",
    "num = top_pop_recommendations.intersection(bottom_20_items_set)\n",
    "coverage_bottom_20 = len(num) / len(bottom_20_items_set)\n",
    "print(f'Coverage bottom 20, TopPop: {coverage_bottom_20}')\n"
   ]
  },
  {
   "cell_type": "code",
   "execution_count": 63,
   "metadata": {},
   "outputs": [
    {
     "name": "stdout",
     "output_type": "stream",
     "text": [
      "Coverage top 20, KNN: 0.461\n",
      "Coverage bottom 20, KNN: 0.961\n"
     ]
    }
   ],
   "source": [
    "k = 10\n",
    "knn_recommendations = set()\n",
    "for uid in train['user_id']:\n",
    "    for item in knn_user_rankings[uid][:k]:\n",
    "        knn_recommendations.add(item)\n",
    "num = knn_recommendations.intersection(top_20_items_set)\n",
    "coverage_top_20 = len(num) / len(top_20_items_set)\n",
    "num = knn_recommendations.intersection(bottom_20_items_set)\n",
    "\n",
    "coverage_bottom_20 = len(num) / len(bottom_20_items_set)\n",
    "print(f'Coverage top 20, KNN: {round(coverage_top_20, 3)}')\n",
    "print(f'Coverage bottom 20, KNN: {round(coverage_bottom_20, 3)}')"
   ]
  },
  {
   "cell_type": "code",
   "execution_count": 64,
   "metadata": {},
   "outputs": [
    {
     "name": "stdout",
     "output_type": "stream",
     "text": [
      "Coverage top 20, SVD: 0.451\n",
      "Coverage bottom 20, SVD: 0.284\n"
     ]
    }
   ],
   "source": [
    "k = 10\n",
    "svd_recommendations = set()\n",
    "for uid in train['user_id']:\n",
    "    for item in svd_user_rankings[uid][:k]:\n",
    "        svd_recommendations.add(item)\n",
    "num = svd_recommendations.intersection(top_20_items_set)\n",
    "coverage_top_20 = len(num) / len(top_20_items_set)\n",
    "num = svd_recommendations.intersection(bottom_20_items_set)\n",
    "coverage_bottom_20 = len(num) / len(bottom_20_items_set)\n",
    "print(f'Coverage top 20, SVD: {round(coverage_top_20, 3)}')\n",
    "print(f'Coverage bottom 20, SVD: {round(coverage_bottom_20, 3)}')"
   ]
  },
  {
   "cell_type": "markdown",
   "metadata": {},
   "source": [
    "# Error Analysis, KNN Baseline"
   ]
  },
  {
   "cell_type": "code",
   "execution_count": 65,
   "metadata": {},
   "outputs": [],
   "source": [
    "rrs = []\n",
    "for uid in test['user_id'].unique():\n",
    "    relevant = test_ground_truth[uid]\n",
    "\n",
    "    recommended = knn_user_rankings[uid]\n",
    "    # MRR@k\n",
    "    for rank, item in enumerate(recommended, 1):\n",
    "        if item in relevant:\n",
    "            rr = 1 / rank\n",
    "            rrs.append(rr)\n",
    "            break\n",
    "    else:\n",
    "        rrs.append(0)"
   ]
  },
  {
   "cell_type": "code",
   "execution_count": 66,
   "metadata": {},
   "outputs": [
    {
     "data": {
      "text/html": [
       "<div>\n",
       "<style scoped>\n",
       "    .dataframe tbody tr th:only-of-type {\n",
       "        vertical-align: middle;\n",
       "    }\n",
       "\n",
       "    .dataframe tbody tr th {\n",
       "        vertical-align: top;\n",
       "    }\n",
       "\n",
       "    .dataframe thead th {\n",
       "        text-align: right;\n",
       "    }\n",
       "</style>\n",
       "<table border=\"1\" class=\"dataframe\">\n",
       "  <thead>\n",
       "    <tr style=\"text-align: right;\">\n",
       "      <th></th>\n",
       "      <th>0</th>\n",
       "      <th>rr</th>\n",
       "    </tr>\n",
       "  </thead>\n",
       "  <tbody>\n",
       "    <tr>\n",
       "      <th>423</th>\n",
       "      <td>AHUXXNY2JWBI6E5TXSK6TABTFZFA</td>\n",
       "      <td>0.005291</td>\n",
       "    </tr>\n",
       "    <tr>\n",
       "      <th>229</th>\n",
       "      <td>AG4ZLTRHVAZRU33BPY5Y643IZXPQ</td>\n",
       "      <td>0.005263</td>\n",
       "    </tr>\n",
       "    <tr>\n",
       "      <th>43</th>\n",
       "      <td>AEFCFIMIWI4KROMC3NDEKIBZQQ5A</td>\n",
       "      <td>0.005208</td>\n",
       "    </tr>\n",
       "    <tr>\n",
       "      <th>427</th>\n",
       "      <td>AHVTPXABLBUBOHIQYQ3QQG6WR6LA</td>\n",
       "      <td>0.005181</td>\n",
       "    </tr>\n",
       "    <tr>\n",
       "      <th>151</th>\n",
       "      <td>AFDS5HV3F3ONORE7U7PMXMVMZAUA</td>\n",
       "      <td>0.005128</td>\n",
       "    </tr>\n",
       "    <tr>\n",
       "      <th>...</th>\n",
       "      <td>...</td>\n",
       "      <td>...</td>\n",
       "    </tr>\n",
       "    <tr>\n",
       "      <th>225</th>\n",
       "      <td>AG44UYFDZHI6FRBQSLDWOGIEOY4A</td>\n",
       "      <td>0.000000</td>\n",
       "    </tr>\n",
       "    <tr>\n",
       "      <th>205</th>\n",
       "      <td>AFWETPPC5GPGN3ITLARC2OHTB5HA</td>\n",
       "      <td>0.000000</td>\n",
       "    </tr>\n",
       "    <tr>\n",
       "      <th>383</th>\n",
       "      <td>AHJ6S3TB7HAXJQ4OFAFHDO5VFNQA</td>\n",
       "      <td>0.000000</td>\n",
       "    </tr>\n",
       "    <tr>\n",
       "      <th>165</th>\n",
       "      <td>AFI3PUWOT5VQ2RUUVOCEFT3B74BQ</td>\n",
       "      <td>0.000000</td>\n",
       "    </tr>\n",
       "    <tr>\n",
       "      <th>345</th>\n",
       "      <td>AH6ZOJ5KTN23MYCHYUMFNWCDDCQA</td>\n",
       "      <td>0.000000</td>\n",
       "    </tr>\n",
       "  </tbody>\n",
       "</table>\n",
       "<p>137 rows × 2 columns</p>\n",
       "</div>"
      ],
      "text/plain": [
       "                                0        rr\n",
       "423  AHUXXNY2JWBI6E5TXSK6TABTFZFA  0.005291\n",
       "229  AG4ZLTRHVAZRU33BPY5Y643IZXPQ  0.005263\n",
       "43   AEFCFIMIWI4KROMC3NDEKIBZQQ5A  0.005208\n",
       "427  AHVTPXABLBUBOHIQYQ3QQG6WR6LA  0.005181\n",
       "151  AFDS5HV3F3ONORE7U7PMXMVMZAUA  0.005128\n",
       "..                            ...       ...\n",
       "225  AG44UYFDZHI6FRBQSLDWOGIEOY4A  0.000000\n",
       "205  AFWETPPC5GPGN3ITLARC2OHTB5HA  0.000000\n",
       "383  AHJ6S3TB7HAXJQ4OFAFHDO5VFNQA  0.000000\n",
       "165  AFI3PUWOT5VQ2RUUVOCEFT3B74BQ  0.000000\n",
       "345  AH6ZOJ5KTN23MYCHYUMFNWCDDCQA  0.000000\n",
       "\n",
       "[137 rows x 2 columns]"
      ]
     },
     "execution_count": 66,
     "metadata": {},
     "output_type": "execute_result"
    }
   ],
   "source": [
    "rr_res = pd.DataFrame(test['user_id'].unique())\n",
    "rr_res['rr'] = rrs\n",
    "rr_res.sort_values(by='rr', ascending=False)[300:]"
   ]
  },
  {
   "cell_type": "code",
   "execution_count": 74,
   "metadata": {},
   "outputs": [
    {
     "data": {
      "text/html": [
       "<div>\n",
       "<style scoped>\n",
       "    .dataframe tbody tr th:only-of-type {\n",
       "        vertical-align: middle;\n",
       "    }\n",
       "\n",
       "    .dataframe tbody tr th {\n",
       "        vertical-align: top;\n",
       "    }\n",
       "\n",
       "    .dataframe thead th {\n",
       "        text-align: right;\n",
       "    }\n",
       "</style>\n",
       "<table border=\"1\" class=\"dataframe\">\n",
       "  <thead>\n",
       "    <tr style=\"text-align: right;\">\n",
       "      <th></th>\n",
       "      <th>0</th>\n",
       "      <th>rr</th>\n",
       "    </tr>\n",
       "  </thead>\n",
       "  <tbody>\n",
       "    <tr>\n",
       "      <th>204</th>\n",
       "      <td>AFWEOWK32WTIBX4MC7D3WFDLCKJQ</td>\n",
       "      <td>1.0</td>\n",
       "    </tr>\n",
       "    <tr>\n",
       "      <th>10</th>\n",
       "      <td>AE4HL6GTIQJ7HRI53XDKIGVJSPRQ</td>\n",
       "      <td>1.0</td>\n",
       "    </tr>\n",
       "    <tr>\n",
       "      <th>348</th>\n",
       "      <td>AH7I57UVCR75DY4O5MDVVGWT2CJQ</td>\n",
       "      <td>1.0</td>\n",
       "    </tr>\n",
       "    <tr>\n",
       "      <th>290</th>\n",
       "      <td>AGOJCISATDQUG3HCXSIFAPT7JMOA</td>\n",
       "      <td>1.0</td>\n",
       "    </tr>\n",
       "    <tr>\n",
       "      <th>375</th>\n",
       "      <td>AHGSLXHSI2QM36AEUPEGTU25V2QA</td>\n",
       "      <td>1.0</td>\n",
       "    </tr>\n",
       "    <tr>\n",
       "      <th>...</th>\n",
       "      <td>...</td>\n",
       "      <td>...</td>\n",
       "    </tr>\n",
       "    <tr>\n",
       "      <th>225</th>\n",
       "      <td>AG44UYFDZHI6FRBQSLDWOGIEOY4A</td>\n",
       "      <td>0.0</td>\n",
       "    </tr>\n",
       "    <tr>\n",
       "      <th>205</th>\n",
       "      <td>AFWETPPC5GPGN3ITLARC2OHTB5HA</td>\n",
       "      <td>0.0</td>\n",
       "    </tr>\n",
       "    <tr>\n",
       "      <th>383</th>\n",
       "      <td>AHJ6S3TB7HAXJQ4OFAFHDO5VFNQA</td>\n",
       "      <td>0.0</td>\n",
       "    </tr>\n",
       "    <tr>\n",
       "      <th>165</th>\n",
       "      <td>AFI3PUWOT5VQ2RUUVOCEFT3B74BQ</td>\n",
       "      <td>0.0</td>\n",
       "    </tr>\n",
       "    <tr>\n",
       "      <th>345</th>\n",
       "      <td>AH6ZOJ5KTN23MYCHYUMFNWCDDCQA</td>\n",
       "      <td>0.0</td>\n",
       "    </tr>\n",
       "  </tbody>\n",
       "</table>\n",
       "<p>437 rows × 2 columns</p>\n",
       "</div>"
      ],
      "text/plain": [
       "                                0   rr\n",
       "204  AFWEOWK32WTIBX4MC7D3WFDLCKJQ  1.0\n",
       "10   AE4HL6GTIQJ7HRI53XDKIGVJSPRQ  1.0\n",
       "348  AH7I57UVCR75DY4O5MDVVGWT2CJQ  1.0\n",
       "290  AGOJCISATDQUG3HCXSIFAPT7JMOA  1.0\n",
       "375  AHGSLXHSI2QM36AEUPEGTU25V2QA  1.0\n",
       "..                            ...  ...\n",
       "225  AG44UYFDZHI6FRBQSLDWOGIEOY4A  0.0\n",
       "205  AFWETPPC5GPGN3ITLARC2OHTB5HA  0.0\n",
       "383  AHJ6S3TB7HAXJQ4OFAFHDO5VFNQA  0.0\n",
       "165  AFI3PUWOT5VQ2RUUVOCEFT3B74BQ  0.0\n",
       "345  AH6ZOJ5KTN23MYCHYUMFNWCDDCQA  0.0\n",
       "\n",
       "[437 rows x 2 columns]"
      ]
     },
     "execution_count": 74,
     "metadata": {},
     "output_type": "execute_result"
    }
   ],
   "source": [
    "rr_res.sort_values(by='rr', ascending=False)"
   ]
  },
  {
   "cell_type": "code",
   "execution_count": 76,
   "metadata": {},
   "outputs": [
    {
     "data": {
      "text/html": [
       "<div>\n",
       "<style scoped>\n",
       "    .dataframe tbody tr th:only-of-type {\n",
       "        vertical-align: middle;\n",
       "    }\n",
       "\n",
       "    .dataframe tbody tr th {\n",
       "        vertical-align: top;\n",
       "    }\n",
       "\n",
       "    .dataframe thead th {\n",
       "        text-align: right;\n",
       "    }\n",
       "</style>\n",
       "<table border=\"1\" class=\"dataframe\">\n",
       "  <thead>\n",
       "    <tr style=\"text-align: right;\">\n",
       "      <th></th>\n",
       "      <th>0</th>\n",
       "      <th>rr</th>\n",
       "    </tr>\n",
       "  </thead>\n",
       "  <tbody>\n",
       "    <tr>\n",
       "      <th>204</th>\n",
       "      <td>AFWEOWK32WTIBX4MC7D3WFDLCKJQ</td>\n",
       "      <td>1.0</td>\n",
       "    </tr>\n",
       "  </tbody>\n",
       "</table>\n",
       "</div>"
      ],
      "text/plain": [
       "                                0   rr\n",
       "204  AFWEOWK32WTIBX4MC7D3WFDLCKJQ  1.0"
      ]
     },
     "execution_count": 76,
     "metadata": {},
     "output_type": "execute_result"
    }
   ],
   "source": [
    "rr_res[rr_res[rr_res.columns[0]] == 'AFWEOWK32WTIBX4MC7D3WFDLCKJQ']"
   ]
  },
  {
   "cell_type": "code",
   "execution_count": 79,
   "metadata": {},
   "outputs": [],
   "source": [
    "high_rr_user = 'AFWEOWK32WTIBX4MC7D3WFDLCKJQ'\n",
    "low_rr_user = 'AHL4BCH2O33HFN7KSBTIJUHCJYDA'"
   ]
  },
  {
   "cell_type": "code",
   "execution_count": 80,
   "metadata": {},
   "outputs": [
    {
     "name": "stdout",
     "output_type": "stream",
     "text": [
      "The high RR user has rated 33 items. Its rating distribution is N(4.48, 0.74)\n",
      "The low RR user has rated 6 items. Its rating distribution is N(5.0, 0.0)\n"
     ]
    }
   ],
   "source": [
    "high_rr_history = train[train['user_id'] == high_rr_user]\n",
    "low_rr_history = train[train['user_id'] == low_rr_user]\n",
    "high_rr_mean = round(np.mean(high_rr_history['rating']), 2)\n",
    "high_rr_std = round(np.std(high_rr_history['rating']), 2)\n",
    "print(f\"The high RR user has rated {len(high_rr_history)} items. Its rating distribution is N({high_rr_mean}, {high_rr_std})\")\n",
    "low_rr_mean = round(np.mean(low_rr_history['rating']), 2)\n",
    "low_rr_std = round(np.std(low_rr_history['rating']), 2)\n",
    "print(f\"The low RR user has rated {len(low_rr_history)} items. Its rating distribution is N({low_rr_mean}, {low_rr_std})\")"
   ]
  },
  {
   "cell_type": "code",
   "execution_count": null,
   "metadata": {},
   "outputs": [],
   "source": [
    "from scipy.sparse import csr_matrix\n",
    "\n",
    "user_item_matrix = train.pivot_table(index='user_id', columns='item_id', values='rating', fill_value=0)\n",
    "\n",
    "user_ids = user_item_matrix.index.tolist() \n",
    "item_ids = user_item_matrix.columns.tolist() \n",
    "\n",
    "user_item_matrix_sparse = csr_matrix(user_item_matrix.values)\n"
   ]
  },
  {
   "cell_type": "code",
   "execution_count": 83,
   "metadata": {},
   "outputs": [],
   "source": [
    "from sklearn.metrics.pairwise import cosine_similarity\n",
    "\n",
    "user_similarity = cosine_similarity(user_item_matrix_sparse)\n"
   ]
  },
  {
   "cell_type": "code",
   "execution_count": 85,
   "metadata": {},
   "outputs": [
    {
     "name": "stdout",
     "output_type": "stream",
     "text": [
      "High RR User Neighbors: ['AEMISRDYQCHSNOXKV6TQ67X2TIOA', 'AGZANHWCCITIE2FQA5NKROW5ZGHQ', 'AEXLRZ34GTMM35NQRDZ4CDKKXLIA', 'AGODDVRWGAQPWOIVFD4V76XIST3A', 'AHEIWAU3PKILH7VPQZGXPBS5BKEQ', 'AG7AKOBJWYLRDRZ4U4CSDM2L3BVQ', 'AHO4IOGAHKIQPKGVMKTDFCKGLJ7A', 'AHWXEOF3AV66R44YXMV6OL3GTLWQ', 'AFA2DVBHFESJRRZOEFN7GAEHV4BQ', 'AE6R5VSHXSCOZJBEJY7BCRM7A6OQ']\n",
      "Low RR User Neighbors: ['AEYIGWWXTT5AD4ZONPSHMK53WR2Q', 'AEEJO5MWV3OVEQ2RNF6ZBGGHCGGA', 'AETS7HNSQIFRSMRCWQMHIWZ2IBOQ', 'AEDKV2KYMJZD43MAADUEKE7Z3PPA', 'AHXN24SQSFO4TJAXQSERXXGLO5FA', 'AH7VVPGAXBTVXWJOKQS4FFLNLFWQ', 'AF2O4GMP7Z6ZV7WZGJM5MGT27GAA', 'AHNMR3M7H4JDTEO5LXIKZC4DJUUA', 'AEFPGSOOIM5GMCPX7FOCCH3UF6ZA', 'AFN6HSXIFGJROQZ2NN3FSUNNM6QA']\n"
     ]
    }
   ],
   "source": [
    "high_rr_index = user_ids.index(high_rr_user)\n",
    "low_rr_index = user_ids.index(low_rr_user)  \n",
    "\n",
    "high_rr_neighbors = user_similarity[high_rr_index].argsort()[-11:-1][::-1]\n",
    "low_rr_neighbors = user_similarity[low_rr_index].argsort()[-11:-1][::-1]  \n",
    "\n",
    "high_rr_neighbor_ids = [user_ids[i] for i in high_rr_neighbors]\n",
    "low_rr_neighbor_ids = [user_ids[i] for i in low_rr_neighbors]\n",
    "\n",
    "print(\"High RR User Neighbors:\", high_rr_neighbor_ids)\n",
    "print(\"Low RR User Neighbors:\", low_rr_neighbor_ids)"
   ]
  },
  {
   "cell_type": "code",
   "execution_count": 86,
   "metadata": {},
   "outputs": [
    {
     "name": "stdout",
     "output_type": "stream",
     "text": [
      "High RR User Neighbors Rating History:\n",
      "         item_id                       user_id  rating      timestamp\n",
      "431   B004XNK7AI  AE6R5VSHXSCOZJBEJY7BCRM7A6OQ     5.0  1567019697687\n",
      "432   B00USQY0CK  AE6R5VSHXSCOZJBEJY7BCRM7A6OQ     5.0  1574456020905\n",
      "433   B00UTD0YG8  AE6R5VSHXSCOZJBEJY7BCRM7A6OQ     5.0  1572994270881\n",
      "434   B01DPCONFM  AE6R5VSHXSCOZJBEJY7BCRM7A6OQ     5.0  1566827507188\n",
      "435   B078KTV8L4  AE6R5VSHXSCOZJBEJY7BCRM7A6OQ     5.0  1567881451837\n",
      "...          ...                           ...     ...            ...\n",
      "9715  B0BFKQ9QXD  AHWXEOF3AV66R44YXMV6OL3GTLWQ     4.0  1568243217003\n",
      "9716  B0BPJ4Q6FJ  AHWXEOF3AV66R44YXMV6OL3GTLWQ     5.0  1560437273975\n",
      "9717  B0BSGM6CQ9  AHWXEOF3AV66R44YXMV6OL3GTLWQ     4.0  1356981373000\n",
      "9718  B0BT2ZRCY2  AHWXEOF3AV66R44YXMV6OL3GTLWQ     5.0  1480049029000\n",
      "9719  B0BTC9YJ2W  AHWXEOF3AV66R44YXMV6OL3GTLWQ     4.0  1569245265543\n",
      "\n",
      "[108 rows x 4 columns]\n",
      "\n",
      "Low RR User Neighbors Rating History:\n",
      "         item_id                       user_id  rating      timestamp\n",
      "835   B0002E3FBA  AEDKV2KYMJZD43MAADUEKE7Z3PPA     5.0  1357238934000\n",
      "836   B000T9L7W2  AEDKV2KYMJZD43MAADUEKE7Z3PPA     3.0  1290641067000\n",
      "837   B00OYUSHJS  AEDKV2KYMJZD43MAADUEKE7Z3PPA     4.0  1374092783000\n",
      "838   B01DE4DEGK  AEDKV2KYMJZD43MAADUEKE7Z3PPA     5.0  1357238971000\n",
      "839   B06XB3FQKB  AEDKV2KYMJZD43MAADUEKE7Z3PPA     5.0  1370873272000\n",
      "...          ...                           ...     ...            ...\n",
      "9782  B09857JRP2  AHXN24SQSFO4TJAXQSERXXGLO5FA     5.0  1570483828841\n",
      "9783  B0B8M2Q1DS  AHXN24SQSFO4TJAXQSERXXGLO5FA     5.0  1349813168000\n",
      "9784  B0B8Z76J32  AHXN24SQSFO4TJAXQSERXXGLO5FA     5.0  1461898103000\n",
      "9785  B0BR2G8WYG  AHXN24SQSFO4TJAXQSERXXGLO5FA     5.0  1541380320684\n",
      "9786  B0C9NGP88D  AHXN24SQSFO4TJAXQSERXXGLO5FA     5.0  1542760246259\n",
      "\n",
      "[96 rows x 4 columns]\n"
     ]
    }
   ],
   "source": [
    "high_rr_neighbor_history = train[train['user_id'].isin(high_rr_neighbor_ids)]\n",
    "low_rr_neighbor_history = train[train['user_id'].isin(low_rr_neighbor_ids)]\n",
    "\n",
    "print(\"High RR User Neighbors Rating History:\")\n",
    "print(high_rr_neighbor_history)\n",
    "print(\"\\nLow RR User Neighbors Rating History:\")\n",
    "print(low_rr_neighbor_history)"
   ]
  },
  {
   "cell_type": "code",
   "execution_count": null,
   "metadata": {},
   "outputs": [
    {
     "name": "stdout",
     "output_type": "stream",
     "text": [
      "High RR User Overlap with Neighbors: 18 items\n",
      "Low RR User Overlap with Neighbors: 6 items\n"
     ]
    }
   ],
   "source": [
    "high_rr_items = set(high_rr_history['item_id'])\n",
    "\n",
    "low_rr_items = set(low_rr_history['item_id'])\n",
    "\n",
    "high_rr_neighbor_items = set(high_rr_neighbor_history['item_id'])\n",
    "\n",
    "low_rr_neighbor_items = set(low_rr_neighbor_history['item_id'])\n",
    "\n",
    "# Calculate overlap\n",
    "high_rr_overlap = len(high_rr_items.intersection(high_rr_neighbor_items))\n",
    "low_rr_overlap = len(low_rr_items.intersection(low_rr_neighbor_items))\n",
    "\n",
    "print(f\"High RR User Overlap with Neighbors: {high_rr_overlap} items\")\n",
    "print(f\"Low RR User Overlap with Neighbors: {low_rr_overlap} items\")"
   ]
  },
  {
   "cell_type": "code",
   "execution_count": null,
   "metadata": {},
   "outputs": [],
   "source": [
    "knn_user_rankings_with_ratings = {}\n",
    "\n",
    "for user_id, non_rated_items in user_non_rated.items():\n",
    "    predictions = [best_knn.predict(user_id, item_id).est for item_id in non_rated_items]\n",
    "    \n",
    "    item_ratings = list(zip(non_rated_items, predictions))\n",
    "    item_ratings.sort(key=lambda x: x[1], reverse=True) \n",
    "    \n",
    "    knn_user_rankings_with_ratings[user_id] = [(item_id, rating) for item_id, rating in item_ratings]"
   ]
  },
  {
   "cell_type": "code",
   "execution_count": null,
   "metadata": {},
   "outputs": [],
   "source": [
    "with open('knn_user_rankings_with_ratings.json', 'w') as fp:\n",
    "    json.dump(knn_user_rankings_with_ratings, fp)"
   ]
  },
  {
   "cell_type": "code",
   "execution_count": null,
   "metadata": {},
   "outputs": [
    {
     "data": {
      "text/html": [
       "<div>\n",
       "<style scoped>\n",
       "    .dataframe tbody tr th:only-of-type {\n",
       "        vertical-align: middle;\n",
       "    }\n",
       "\n",
       "    .dataframe tbody tr th {\n",
       "        vertical-align: top;\n",
       "    }\n",
       "\n",
       "    .dataframe thead th {\n",
       "        text-align: right;\n",
       "    }\n",
       "</style>\n",
       "<table border=\"1\" class=\"dataframe\">\n",
       "  <thead>\n",
       "    <tr style=\"text-align: right;\">\n",
       "      <th></th>\n",
       "      <th>0</th>\n",
       "      <th>rr</th>\n",
       "    </tr>\n",
       "  </thead>\n",
       "  <tbody>\n",
       "    <tr>\n",
       "      <th>422</th>\n",
       "      <td>AHUPJSMPURGM4QXXHW7VZLHZHITQ</td>\n",
       "      <td>1.000000</td>\n",
       "    </tr>\n",
       "    <tr>\n",
       "      <th>415</th>\n",
       "      <td>AHSCA5GKZMVKAYKINVSXB6E3XMTQ</td>\n",
       "      <td>1.000000</td>\n",
       "    </tr>\n",
       "    <tr>\n",
       "      <th>85</th>\n",
       "      <td>AERWQO4KG65FDWZTSAU44MKDCWFA</td>\n",
       "      <td>1.000000</td>\n",
       "    </tr>\n",
       "    <tr>\n",
       "      <th>120</th>\n",
       "      <td>AF2MGAQBAT3E4XQC7NNAQFYG4MIQ</td>\n",
       "      <td>1.000000</td>\n",
       "    </tr>\n",
       "    <tr>\n",
       "      <th>119</th>\n",
       "      <td>AF2GPIP26H7E5EHDWC6P7RKZ3OUQ</td>\n",
       "      <td>1.000000</td>\n",
       "    </tr>\n",
       "    <tr>\n",
       "      <th>372</th>\n",
       "      <td>AHGDGGMCSMMALHTX6WGLJFFUVJXA</td>\n",
       "      <td>0.500000</td>\n",
       "    </tr>\n",
       "    <tr>\n",
       "      <th>290</th>\n",
       "      <td>AGOJCISATDQUG3HCXSIFAPT7JMOA</td>\n",
       "      <td>0.500000</td>\n",
       "    </tr>\n",
       "    <tr>\n",
       "      <th>28</th>\n",
       "      <td>AEBD7F5ITOHM4VSB4V7L2G35YBSQ</td>\n",
       "      <td>0.333333</td>\n",
       "    </tr>\n",
       "    <tr>\n",
       "      <th>27</th>\n",
       "      <td>AEATZO22KZMV7ECXWBK5KSURDZAA</td>\n",
       "      <td>0.333333</td>\n",
       "    </tr>\n",
       "    <tr>\n",
       "      <th>262</th>\n",
       "      <td>AGFP4L46THLV4ZT2OKLNYP7FZ3LQ</td>\n",
       "      <td>0.333333</td>\n",
       "    </tr>\n",
       "    <tr>\n",
       "      <th>250</th>\n",
       "      <td>AGBDLSGHRFYWVTPVFFMGGT3W4NNA</td>\n",
       "      <td>0.333333</td>\n",
       "    </tr>\n",
       "    <tr>\n",
       "      <th>103</th>\n",
       "      <td>AEW3WN45BO5QRGK3RPQ2DREV4NGA</td>\n",
       "      <td>0.333333</td>\n",
       "    </tr>\n",
       "    <tr>\n",
       "      <th>48</th>\n",
       "      <td>AEH4Y332KQ4FVFT5VTSILR2RGJ4A</td>\n",
       "      <td>0.333333</td>\n",
       "    </tr>\n",
       "    <tr>\n",
       "      <th>421</th>\n",
       "      <td>AHUIUCGSUO6B2KRQLQ2UWRYXTH5Q</td>\n",
       "      <td>0.333333</td>\n",
       "    </tr>\n",
       "    <tr>\n",
       "      <th>159</th>\n",
       "      <td>AFG7GOJ4XZ6MQA7EXJQ6BCK3Y2YQ</td>\n",
       "      <td>0.333333</td>\n",
       "    </tr>\n",
       "    <tr>\n",
       "      <th>144</th>\n",
       "      <td>AF7DTXFZKRXELYXQKP54UAHBPDDA</td>\n",
       "      <td>0.250000</td>\n",
       "    </tr>\n",
       "    <tr>\n",
       "      <th>179</th>\n",
       "      <td>AFMOXNCYTYVRTZKJGVX4X7NHOU7Q</td>\n",
       "      <td>0.250000</td>\n",
       "    </tr>\n",
       "    <tr>\n",
       "      <th>20</th>\n",
       "      <td>AE6R5VSHXSCOZJBEJY7BCRM7A6OQ</td>\n",
       "      <td>0.250000</td>\n",
       "    </tr>\n",
       "    <tr>\n",
       "      <th>167</th>\n",
       "      <td>AFIMYZ3UMWWZKR2ZFTOQZ2BDGA6Q</td>\n",
       "      <td>0.250000</td>\n",
       "    </tr>\n",
       "    <tr>\n",
       "      <th>332</th>\n",
       "      <td>AH2KNTQFU4DWMQIMTDLFSMRQHRYA</td>\n",
       "      <td>0.200000</td>\n",
       "    </tr>\n",
       "  </tbody>\n",
       "</table>\n",
       "</div>"
      ],
      "text/plain": [
       "                                0        rr\n",
       "422  AHUPJSMPURGM4QXXHW7VZLHZHITQ  1.000000\n",
       "415  AHSCA5GKZMVKAYKINVSXB6E3XMTQ  1.000000\n",
       "85   AERWQO4KG65FDWZTSAU44MKDCWFA  1.000000\n",
       "120  AF2MGAQBAT3E4XQC7NNAQFYG4MIQ  1.000000\n",
       "119  AF2GPIP26H7E5EHDWC6P7RKZ3OUQ  1.000000\n",
       "372  AHGDGGMCSMMALHTX6WGLJFFUVJXA  0.500000\n",
       "290  AGOJCISATDQUG3HCXSIFAPT7JMOA  0.500000\n",
       "28   AEBD7F5ITOHM4VSB4V7L2G35YBSQ  0.333333\n",
       "27   AEATZO22KZMV7ECXWBK5KSURDZAA  0.333333\n",
       "262  AGFP4L46THLV4ZT2OKLNYP7FZ3LQ  0.333333\n",
       "250  AGBDLSGHRFYWVTPVFFMGGT3W4NNA  0.333333\n",
       "103  AEW3WN45BO5QRGK3RPQ2DREV4NGA  0.333333\n",
       "48   AEH4Y332KQ4FVFT5VTSILR2RGJ4A  0.333333\n",
       "421  AHUIUCGSUO6B2KRQLQ2UWRYXTH5Q  0.333333\n",
       "159  AFG7GOJ4XZ6MQA7EXJQ6BCK3Y2YQ  0.333333\n",
       "144  AF7DTXFZKRXELYXQKP54UAHBPDDA  0.250000\n",
       "179  AFMOXNCYTYVRTZKJGVX4X7NHOU7Q  0.250000\n",
       "20   AE6R5VSHXSCOZJBEJY7BCRM7A6OQ  0.250000\n",
       "167  AFIMYZ3UMWWZKR2ZFTOQZ2BDGA6Q  0.250000\n",
       "332  AH2KNTQFU4DWMQIMTDLFSMRQHRYA  0.200000"
      ]
     },
     "execution_count": 695,
     "metadata": {},
     "output_type": "execute_result"
    }
   ],
   "source": [
    "rr_res.sort_values(by='rr', ascending=False)[0:20]"
   ]
  },
  {
   "cell_type": "code",
   "execution_count": null,
   "metadata": {},
   "outputs": [],
   "source": [
    "low_rrs = rr_res[rr_res['rr'] <= 0.05]\n",
    "mid_rrs = rr_res[(rr_res['rr'] > 0.05) & (rr_res['rr'] <= 1.00001/3)]\n",
    "high_rrs = rr_res[rr_res['rr'] >= 0.5]"
   ]
  },
  {
   "cell_type": "code",
   "execution_count": null,
   "metadata": {},
   "outputs": [],
   "source": [
    "means = train[['user_id', 'rating']].groupby('user_id').mean()\n",
    "stds = train[['user_id', 'rating']].groupby('user_id').std()\n",
    "count = train[['user_id', 'item_id']].groupby('user_id').count()"
   ]
  },
  {
   "cell_type": "code",
   "execution_count": null,
   "metadata": {},
   "outputs": [
    {
     "data": {
      "text/plain": [
       "0      AE23LDQTB7L76AP6E6WPBFVYL5DA\n",
       "1      AE2BV2H57ERXAPW7SOAXFLWA2S2Q\n",
       "2      AE2NWSTL7JJJWOCBKZCZF6KDQIZQ\n",
       "3      AE2OQ55HLV5XO54DWLE4PB5XUNPA\n",
       "4      AE37RAW77LNOTEDKMDKGXSGQHD5Q\n",
       "                   ...             \n",
       "432    AHXI5OYTSU227DFONJML5ZLE4MZQ\n",
       "433    AHXN24SQSFO4TJAXQSERXXGLO5FA\n",
       "434    AHYAO24VSRJF47XSA3XNLHHDE4VA\n",
       "435    AHYQKMLIXHKFDHC7K2Y4JXM4YLOQ\n",
       "436    AHZER36Y6IL7USHGBCELVMN56VOQ\n",
       "Name: 0, Length: 378, dtype: object"
      ]
     },
     "execution_count": 710,
     "metadata": {},
     "output_type": "execute_result"
    }
   ],
   "source": [
    "low_rrs[low_rrs.columns[0]]"
   ]
  },
  {
   "cell_type": "code",
   "execution_count": null,
   "metadata": {},
   "outputs": [
    {
     "name": "stdout",
     "output_type": "stream",
     "text": [
      "Low RRs Stats:\n",
      "Amount of users: 378\n",
      "Distribution: N(4.5, 0.72)\n",
      "Average number of items rated: item_id    10.71\n",
      "dtype: float64\n",
      "Average Arbitrarity: 0.68\n",
      "Mid RRs Stats:\n",
      "Amount of users: 52\n",
      "Distribution: N(4.59, 0.65)\n",
      "Average number of items rated: item_id    11.25\n",
      "dtype: float64\n",
      "Average Arbitrarity: 0.71\n",
      "High RRs Stats:\n",
      "Amount of users: 7\n",
      "Distribution: N(4.37, 0.84)\n",
      "Average number of items rated: item_id    10.57\n",
      "dtype: float64\n",
      "Average Arbitrarity: 0.29\n"
     ]
    },
    {
     "name": "stderr",
     "output_type": "stream",
     "text": [
      "/var/folders/6q/9k_rffm16h50xgkcpmz_d3cc0000gn/T/ipykernel_34806/1243540034.py:8: FutureWarning: Series.__getitem__ treating keys as positions is deprecated. In a future version, integer keys will always be treated as labels (consistent with DataFrame behavior). To access a value by position, use `ser.iloc[pos]`\n",
      "  print(f'Distribution: N({round(rrs_means.mean()[0], 2)}, {round(rrs_std.mean()[0], 2)})')\n"
     ]
    }
   ],
   "source": [
    "def compute_stats(rrs, name : str, k: int = 20):\n",
    "    users = rrs[rrs.columns[0]]\n",
    "    rrs_means = means[means.index.isin(rrs[rrs.columns[0]])]\n",
    "    rrs_std = stds[stds.index.isin(rrs[rrs.columns[0]])]\n",
    "    rrs_count = count[count.index.isin(rrs[rrs.columns[0]])]\n",
    "    print(f'{name} Stats:')\n",
    "    print(f'Amount of users: {len(users)}')\n",
    "    print(f'Distribution: N({round(rrs_means.mean()[0], 2)}, {round(rrs_std.mean()[0], 2)})')\n",
    "    print(f'Average number of items rated: {round(rrs_count.mean(), 2)}')\n",
    "    arbitrarity = []\n",
    "    for user in users:\n",
    "        items_n_ratings = knn_user_rankings_with_ratings[user][:k]\n",
    "        z = list(zip(*items_n_ratings))[1]\n",
    "        if z[0] == z[-1]:\n",
    "            arbitrarity.append(1)\n",
    "            continue\n",
    "        arbitrarity.append(0)\n",
    "    rrs_arbitrarity = sum(arbitrarity) / len(arbitrarity)\n",
    "    print(f'Average Arbitrarity: {round(rrs_arbitrarity, 2)}')\n",
    "    return [rrs_means, rrs_std, rrs_count]\n",
    "\n",
    "\n",
    "low_rr_stats = compute_stats(low_rrs, 'Low RRs')\n",
    "mid_rr_stats = compute_stats(mid_rrs, 'Mid RRs')\n",
    "high_rr_stats = compute_stats(high_rrs, 'High RRs')"
   ]
  }
 ],
 "metadata": {
  "kernelspec": {
   "display_name": "WRSLabs",
   "language": "python",
   "name": "python3"
  },
  "language_info": {
   "codemirror_mode": {
    "name": "ipython",
    "version": 3
   },
   "file_extension": ".py",
   "mimetype": "text/x-python",
   "name": "python",
   "nbconvert_exporter": "python",
   "pygments_lexer": "ipython3",
   "version": "3.10.0"
  }
 },
 "nbformat": 4,
 "nbformat_minor": 2
}
