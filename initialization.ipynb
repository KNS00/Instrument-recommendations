{
 "cells": [
  {
   "cell_type": "markdown",
   "metadata": {},
   "source": [
    "# Section 1\n",
    "## Preparing the data"
   ]
  },
  {
   "cell_type": "code",
   "execution_count": 5,
   "metadata": {},
   "outputs": [],
   "source": [
    "import pandas as pd\n",
    "import matplotlib.pyplot as plt\n",
    "import numpy as np"
   ]
  },
  {
   "cell_type": "code",
   "execution_count": 6,
   "metadata": {},
   "outputs": [],
   "source": [
    "test = pd.read_table('test.tsv',sep='\\s+',header=0).sort_values(['user_id', 'item_id', 'rating', 'timestamp'])\n",
    "train = pd.read_table('train.tsv',sep='\\s+',header=0).sort_values(['user_id', 'item_id', 'rating', 'timestamp'])"
   ]
  },
  {
   "cell_type": "code",
   "execution_count": 7,
   "metadata": {},
   "outputs": [
    {
     "name": "stdout",
     "output_type": "stream",
     "text": [
      "          item_id                       user_id  rating      timestamp\n",
      "6582   B005M0MUQK  AE23LDQTB7L76AP6E6WPBFVYL5DA     4.0  1523727684523\n",
      "7338   B007T8CUNG  AE23LDQTB7L76AP6E6WPBFVYL5DA     5.0  1538338679388\n",
      "5709   B015IJIO5U  AE23LDQTB7L76AP6E6WPBFVYL5DA     5.0  1550441940530\n",
      "8394   B09NLV5LBK  AE23LDQTB7L76AP6E6WPBFVYL5DA     5.0  1565530500329\n",
      "10866  B0BSR996X8  AE23LDQTB7L76AP6E6WPBFVYL5DA     5.0  1565529596545\n",
      "...           ...                           ...     ...            ...\n",
      "7095   B0928H8KFQ  AHZYZ2BUDD7WAJPW5G6K2DK5LYPQ     1.0  1567116669646\n",
      "6145   B09396NY1C  AHZYZ2BUDD7WAJPW5G6K2DK5LYPQ     1.0  1507288252495\n",
      "10394  B095XZJ99J  AHZYZ2BUDD7WAJPW5G6K2DK5LYPQ     5.0  1551528681939\n",
      "5962   B09QZJ57YW  AHZYZ2BUDD7WAJPW5G6K2DK5LYPQ     4.0  1563049606419\n",
      "9381   B0B8F6LD9F  AHZYZ2BUDD7WAJPW5G6K2DK5LYPQ     5.0  1567116785940\n",
      "\n",
      "[9913 rows x 4 columns]\n",
      "         item_id                       user_id  rating      timestamp\n",
      "2117  B008BPI2OW  AE23LDQTB7L76AP6E6WPBFVYL5DA     5.0  1603052601947\n",
      "908   B00CGFRJ2Y  AE23LDQTB7L76AP6E6WPBFVYL5DA     5.0  1628691046650\n",
      "2913  B09198262S  AE23LDQTB7L76AP6E6WPBFVYL5DA     5.0  1664305424891\n",
      "2316  B0928HW2P4  AE23LDQTB7L76AP6E6WPBFVYL5DA     5.0  1618075356515\n",
      "893   B0B3MWSSYF  AE23LDQTB7L76AP6E6WPBFVYL5DA     5.0  1628690313331\n",
      "...          ...                           ...     ...            ...\n",
      "1034  B06XKPHXSV  AHZER36Y6IL7USHGBCELVMN56VOQ     5.0  1576416658010\n",
      "1384  B076VWK8JV  AHZER36Y6IL7USHGBCELVMN56VOQ     4.0  1661948493816\n",
      "2924  B07N5MJDBF  AHZER36Y6IL7USHGBCELVMN56VOQ     5.0  1576502817761\n",
      "1151  B093YKLWVN  AHZER36Y6IL7USHGBCELVMN56VOQ     5.0  1576503051781\n",
      "817   B09PBL98Q4  AHZER36Y6IL7USHGBCELVMN56VOQ     1.0  1663251314072\n",
      "\n",
      "[1822 rows x 4 columns]\n"
     ]
    }
   ],
   "source": [
    "def data_cleaning(df, valid_ratings = [1.0, 2.0, 3.0, 4.0, 5.0]):\n",
    "    df = df.sort_values(['user_id', 'item_id', 'timestamp'], ascending=(True, True, True))\n",
    "\n",
    "    invalid_entries = df.loc[~df['rating'].isin(valid_ratings)]\n",
    "    another_invalid = df.loc[(df['user_id'].str.len() != 28) | (df['item_id'].str.len() != 10)]\n",
    "    if not invalid_entries.empty:\n",
    "        df.drop(invalid_entries)\n",
    "    if not another_invalid.empty:\n",
    "        df.drop(another_invalid)\n",
    "#    print(df)\n",
    "    df = df.drop_duplicates(subset=['user_id', 'item_id'], keep='last') # check if user has rated an item twice. we keep the latest rating (it's sorted by timestamp)\n",
    "    print(df)\n",
    "    return df\n",
    "train = data_cleaning(train)\n",
    "test = data_cleaning(test)\n",
    "#test = test.loc[test['user_id'].isin(train['user_id'])] # double check. only one way though"
   ]
  },
  {
   "cell_type": "markdown",
   "metadata": {},
   "source": [
    "# User and item statistics"
   ]
  },
  {
   "cell_type": "code",
   "execution_count": 8,
   "metadata": {},
   "outputs": [
    {
     "name": "stdout",
     "output_type": "stream",
     "text": [
      "Number of users accounting for at least 50% of reviews: 279\n",
      "Number of items accounting for at least 50% of reviews: 111\n"
     ]
    }
   ],
   "source": [
    "user_rating_distributions = train.groupby('user_id').agg(\n",
    "    train_rating_mean=('rating', 'mean'),\n",
    "    train_rating_var=('rating', 'var'),\n",
    "    train_rating_count=('rating', 'count')\n",
    ")\n",
    "item_rating_distributions = train.groupby('item_id').agg(\n",
    "    train_rating_mean=('rating', 'mean'),\n",
    "    train_rating_var=('rating', 'var'),\n",
    "    train_rating_count=('rating', 'count')\n",
    ")\n",
    "\n",
    "df_sorted = user_rating_distributions.sort_values('train_rating_count', ascending=False)\n",
    "\n",
    "\n",
    "total_reviews = df_sorted['train_rating_count'].sum()\n",
    "\n",
    "\n",
    "cumulative_reviews = df_sorted['train_rating_count'].cumsum()\n",
    "\n",
    "# Find the minimum number of items needed to reach at least 50% of total reviews\n",
    "threshold = total_reviews * 0.5\n",
    "num_items = np.argmax(cumulative_reviews >= threshold) + 1  # +1 to convert zero-indexed position to count\n",
    "\n",
    "print(\"Number of users accounting for at least 50% of reviews:\", num_items)\n",
    "\n",
    "\n",
    "df_sorted = item_rating_distributions.sort_values('train_rating_count', ascending=False)\n",
    "\n",
    "# Calculate total reviews\n",
    "total_reviews = df_sorted['train_rating_count'].sum()\n",
    "\n",
    "# Compute cumulative sum of reviews\n",
    "cumulative_reviews = df_sorted['train_rating_count'].cumsum()\n",
    "\n",
    "# Find the minimum number of items needed to reach at least 50% of total reviews\n",
    "threshold = total_reviews * 0.5\n",
    "num_items = np.argmax(cumulative_reviews >= threshold) + 1  # +1 to convert zero-indexed position to count\n",
    "\n",
    "print(\"Number of items accounting for at least 50% of reviews:\", num_items)\n"
   ]
  },
  {
   "cell_type": "code",
   "execution_count": 9,
   "metadata": {},
   "outputs": [
    {
     "data": {
      "text/plain": [
       "5160"
      ]
     },
     "execution_count": 9,
     "metadata": {},
     "output_type": "execute_result"
    }
   ],
   "source": [
    "item_rating_distributions.sort_values('train_rating_count', ascending=False)[:30]\n",
    "sum(item_rating_distributions.sort_values('train_rating_count', ascending=False)['train_rating_count'][:120]\n",
    ")"
   ]
  },
  {
   "cell_type": "code",
   "execution_count": 10,
   "metadata": {},
   "outputs": [
    {
     "data": {
      "text/html": [
       "<div>\n",
       "<style scoped>\n",
       "    .dataframe tbody tr th:only-of-type {\n",
       "        vertical-align: middle;\n",
       "    }\n",
       "\n",
       "    .dataframe tbody tr th {\n",
       "        vertical-align: top;\n",
       "    }\n",
       "\n",
       "    .dataframe thead th {\n",
       "        text-align: right;\n",
       "    }\n",
       "</style>\n",
       "<table border=\"1\" class=\"dataframe\">\n",
       "  <thead>\n",
       "    <tr style=\"text-align: right;\">\n",
       "      <th></th>\n",
       "      <th>train_rating_mean</th>\n",
       "      <th>train_rating_var</th>\n",
       "      <th>train_rating_count</th>\n",
       "    </tr>\n",
       "    <tr>\n",
       "      <th>item_id</th>\n",
       "      <th></th>\n",
       "      <th></th>\n",
       "      <th></th>\n",
       "    </tr>\n",
       "  </thead>\n",
       "  <tbody>\n",
       "    <tr>\n",
       "      <th>B0BSGM6CQ9</th>\n",
       "      <td>4.689873</td>\n",
       "      <td>0.533782</td>\n",
       "      <td>158</td>\n",
       "    </tr>\n",
       "    <tr>\n",
       "      <th>B0BPJ4Q6FJ</th>\n",
       "      <td>4.737179</td>\n",
       "      <td>0.427254</td>\n",
       "      <td>156</td>\n",
       "    </tr>\n",
       "    <tr>\n",
       "      <th>B09857JRP2</th>\n",
       "      <td>4.769231</td>\n",
       "      <td>0.333694</td>\n",
       "      <td>143</td>\n",
       "    </tr>\n",
       "    <tr>\n",
       "      <th>B0BCK6L7S5</th>\n",
       "      <td>4.303030</td>\n",
       "      <td>1.189914</td>\n",
       "      <td>132</td>\n",
       "    </tr>\n",
       "    <tr>\n",
       "      <th>B08R5GM6YB</th>\n",
       "      <td>4.504065</td>\n",
       "      <td>0.891377</td>\n",
       "      <td>123</td>\n",
       "    </tr>\n",
       "    <tr>\n",
       "      <th>...</th>\n",
       "      <td>...</td>\n",
       "      <td>...</td>\n",
       "      <td>...</td>\n",
       "    </tr>\n",
       "    <tr>\n",
       "      <th>B0C5CTX5LZ</th>\n",
       "      <td>5.000000</td>\n",
       "      <td>NaN</td>\n",
       "      <td>1</td>\n",
       "    </tr>\n",
       "    <tr>\n",
       "      <th>B07DVX841V</th>\n",
       "      <td>5.000000</td>\n",
       "      <td>NaN</td>\n",
       "      <td>1</td>\n",
       "    </tr>\n",
       "    <tr>\n",
       "      <th>B0B2LMZ9RT</th>\n",
       "      <td>4.000000</td>\n",
       "      <td>NaN</td>\n",
       "      <td>1</td>\n",
       "    </tr>\n",
       "    <tr>\n",
       "      <th>B07KRZ1HH8</th>\n",
       "      <td>5.000000</td>\n",
       "      <td>NaN</td>\n",
       "      <td>1</td>\n",
       "    </tr>\n",
       "    <tr>\n",
       "      <th>B0BNCDVD4M</th>\n",
       "      <td>4.000000</td>\n",
       "      <td>NaN</td>\n",
       "      <td>1</td>\n",
       "    </tr>\n",
       "  </tbody>\n",
       "</table>\n",
       "<p>509 rows × 3 columns</p>\n",
       "</div>"
      ],
      "text/plain": [
       "            train_rating_mean  train_rating_var  train_rating_count\n",
       "item_id                                                            \n",
       "B0BSGM6CQ9           4.689873          0.533782                 158\n",
       "B0BPJ4Q6FJ           4.737179          0.427254                 156\n",
       "B09857JRP2           4.769231          0.333694                 143\n",
       "B0BCK6L7S5           4.303030          1.189914                 132\n",
       "B08R5GM6YB           4.504065          0.891377                 123\n",
       "...                       ...               ...                 ...\n",
       "B0C5CTX5LZ           5.000000               NaN                   1\n",
       "B07DVX841V           5.000000               NaN                   1\n",
       "B0B2LMZ9RT           4.000000               NaN                   1\n",
       "B07KRZ1HH8           5.000000               NaN                   1\n",
       "B0BNCDVD4M           4.000000               NaN                   1\n",
       "\n",
       "[509 rows x 3 columns]"
      ]
     },
     "execution_count": 10,
     "metadata": {},
     "output_type": "execute_result"
    }
   ],
   "source": [
    "item_rating_distributions.sort_values('train_rating_count', ascending=False)"
   ]
  },
  {
   "cell_type": "code",
   "execution_count": null,
   "metadata": {},
   "outputs": [],
   "source": [
    "train.to_csv('train_new.tsv', sep='\\t', index=False)\n",
    "test.to_csv('test_new.tsv', sep='\\t', index=False)"
   ]
  },
  {
   "cell_type": "code",
   "execution_count": 12,
   "metadata": {},
   "outputs": [
    {
     "name": "stdout",
     "output_type": "stream",
     "text": [
      "12.39125\n",
      "The distribution of ratings over users is N(4.54,0.69). On average, a user has reviewed a product 12.39125 times.\n"
     ]
    }
   ],
   "source": [
    "print(user_rating_distributions['train_rating_count'].mean())\n",
    "print(f\"The distribution of ratings over users is N({round(user_rating_distributions['train_rating_mean'].mean(), 2)},{round(user_rating_distributions['train_rating_var'].mean(), 2)}). On average, a user has reviewed a product {user_rating_distributions['train_rating_count'].mean()} times.\")"
   ]
  },
  {
   "cell_type": "code",
   "execution_count": 13,
   "metadata": {},
   "outputs": [
    {
     "name": "stdout",
     "output_type": "stream",
     "text": [
      "19.475442043222003\n",
      "The distribution of ratings over items is N(4.52,0.8). On average, an item have been reviewed 19.475442043222003 times.\n"
     ]
    }
   ],
   "source": [
    "print(item_rating_distributions['train_rating_count'].mean())\n",
    "print(f\"The distribution of ratings over items is N({round(item_rating_distributions['train_rating_mean'].mean(), 2)},{round(item_rating_distributions['train_rating_var'].mean(), 2)}). On average, an item have been reviewed {item_rating_distributions['train_rating_count'].mean()} times.\")"
   ]
  },
  {
   "cell_type": "markdown",
   "metadata": {},
   "source": [
    "### The ratings are skewed torwards the lower part, with many people rating stuff very high."
   ]
  },
  {
   "cell_type": "code",
   "execution_count": 14,
   "metadata": {},
   "outputs": [
    {
     "data": {
      "text/html": [
       "<div>\n",
       "<style scoped>\n",
       "    .dataframe tbody tr th:only-of-type {\n",
       "        vertical-align: middle;\n",
       "    }\n",
       "\n",
       "    .dataframe tbody tr th {\n",
       "        vertical-align: top;\n",
       "    }\n",
       "\n",
       "    .dataframe thead th {\n",
       "        text-align: right;\n",
       "    }\n",
       "</style>\n",
       "<table border=\"1\" class=\"dataframe\">\n",
       "  <thead>\n",
       "    <tr style=\"text-align: right;\">\n",
       "      <th></th>\n",
       "      <th>train_rating_mean</th>\n",
       "      <th>train_rating_var</th>\n",
       "      <th>train_rating_count</th>\n",
       "    </tr>\n",
       "    <tr>\n",
       "      <th>user_id</th>\n",
       "      <th></th>\n",
       "      <th></th>\n",
       "      <th></th>\n",
       "    </tr>\n",
       "  </thead>\n",
       "  <tbody>\n",
       "    <tr>\n",
       "      <th>AF7CC34DK36SQJS7WXI44DREGWJA</th>\n",
       "      <td>4.791667</td>\n",
       "      <td>0.210993</td>\n",
       "      <td>48</td>\n",
       "    </tr>\n",
       "    <tr>\n",
       "      <th>AFJQQWO6VAZCTTY3GXNB3SEUU34Q</th>\n",
       "      <td>4.627907</td>\n",
       "      <td>0.239203</td>\n",
       "      <td>43</td>\n",
       "    </tr>\n",
       "    <tr>\n",
       "      <th>AG5ZVXXHEXDYUUODSEQC4XXV7DPA</th>\n",
       "      <td>4.860465</td>\n",
       "      <td>0.170543</td>\n",
       "      <td>43</td>\n",
       "    </tr>\n",
       "    <tr>\n",
       "      <th>AGVT5E2C6WNOCFYSLOCPAPBJOIKQ</th>\n",
       "      <td>2.829268</td>\n",
       "      <td>1.445122</td>\n",
       "      <td>41</td>\n",
       "    </tr>\n",
       "    <tr>\n",
       "      <th>AG4ZLTRHVAZRU33BPY5Y643IZXPQ</th>\n",
       "      <td>4.750000</td>\n",
       "      <td>0.243590</td>\n",
       "      <td>40</td>\n",
       "    </tr>\n",
       "    <tr>\n",
       "      <th>...</th>\n",
       "      <td>...</td>\n",
       "      <td>...</td>\n",
       "      <td>...</td>\n",
       "    </tr>\n",
       "    <tr>\n",
       "      <th>AEXXX2MQRH3AHZMBZBP4RDNGRRWQ</th>\n",
       "      <td>5.000000</td>\n",
       "      <td>NaN</td>\n",
       "      <td>1</td>\n",
       "    </tr>\n",
       "    <tr>\n",
       "      <th>AFGJ42MV2H2CHEZNN3JPQ3RSYUHQ</th>\n",
       "      <td>5.000000</td>\n",
       "      <td>NaN</td>\n",
       "      <td>1</td>\n",
       "    </tr>\n",
       "    <tr>\n",
       "      <th>AFFOT7AORQAWKU6KKPDHR3FOA5AA</th>\n",
       "      <td>5.000000</td>\n",
       "      <td>NaN</td>\n",
       "      <td>1</td>\n",
       "    </tr>\n",
       "    <tr>\n",
       "      <th>AEMZMINSQYQBEDD3TPDQZZFFWIQA</th>\n",
       "      <td>5.000000</td>\n",
       "      <td>NaN</td>\n",
       "      <td>1</td>\n",
       "    </tr>\n",
       "    <tr>\n",
       "      <th>AF2MGAQBAT3E4XQC7NNAQFYG4MIQ</th>\n",
       "      <td>4.000000</td>\n",
       "      <td>NaN</td>\n",
       "      <td>1</td>\n",
       "    </tr>\n",
       "  </tbody>\n",
       "</table>\n",
       "<p>800 rows × 3 columns</p>\n",
       "</div>"
      ],
      "text/plain": [
       "                              train_rating_mean  train_rating_var  \\\n",
       "user_id                                                             \n",
       "AF7CC34DK36SQJS7WXI44DREGWJA           4.791667          0.210993   \n",
       "AFJQQWO6VAZCTTY3GXNB3SEUU34Q           4.627907          0.239203   \n",
       "AG5ZVXXHEXDYUUODSEQC4XXV7DPA           4.860465          0.170543   \n",
       "AGVT5E2C6WNOCFYSLOCPAPBJOIKQ           2.829268          1.445122   \n",
       "AG4ZLTRHVAZRU33BPY5Y643IZXPQ           4.750000          0.243590   \n",
       "...                                         ...               ...   \n",
       "AEXXX2MQRH3AHZMBZBP4RDNGRRWQ           5.000000               NaN   \n",
       "AFGJ42MV2H2CHEZNN3JPQ3RSYUHQ           5.000000               NaN   \n",
       "AFFOT7AORQAWKU6KKPDHR3FOA5AA           5.000000               NaN   \n",
       "AEMZMINSQYQBEDD3TPDQZZFFWIQA           5.000000               NaN   \n",
       "AF2MGAQBAT3E4XQC7NNAQFYG4MIQ           4.000000               NaN   \n",
       "\n",
       "                              train_rating_count  \n",
       "user_id                                           \n",
       "AF7CC34DK36SQJS7WXI44DREGWJA                  48  \n",
       "AFJQQWO6VAZCTTY3GXNB3SEUU34Q                  43  \n",
       "AG5ZVXXHEXDYUUODSEQC4XXV7DPA                  43  \n",
       "AGVT5E2C6WNOCFYSLOCPAPBJOIKQ                  41  \n",
       "AG4ZLTRHVAZRU33BPY5Y643IZXPQ                  40  \n",
       "...                                          ...  \n",
       "AEXXX2MQRH3AHZMBZBP4RDNGRRWQ                   1  \n",
       "AFGJ42MV2H2CHEZNN3JPQ3RSYUHQ                   1  \n",
       "AFFOT7AORQAWKU6KKPDHR3FOA5AA                   1  \n",
       "AEMZMINSQYQBEDD3TPDQZZFFWIQA                   1  \n",
       "AF2MGAQBAT3E4XQC7NNAQFYG4MIQ                   1  \n",
       "\n",
       "[800 rows x 3 columns]"
      ]
     },
     "execution_count": 14,
     "metadata": {},
     "output_type": "execute_result"
    }
   ],
   "source": [
    "user_rating_distributions.sort_values(by='train_rating_count', ascending=False)\n"
   ]
  },
  {
   "cell_type": "code",
   "execution_count": null,
   "metadata": {},
   "outputs": [
    {
     "data": {
      "image/png": "[encoded data removed]",
      "text/plain": [
       "<Figure size 800x500 with 1 Axes>"
      ]
     },
     "metadata": {},
     "output_type": "display_data"
    }
   ],
   "source": [
    "import matplotlib.pyplot as plt\n",
    "import numpy as np\n",
    "\n",
    "plt.figure(figsize=(8, 5))\n",
    "\n",
    "y = item_rating_distributions['train_rating_count'].sort_values(ascending=True)\n",
    "\n",
    "plt.bar([i + 1 for i in range(len(y))], y, label=\"Rating Count\", color=\"orange\", alpha=0.7)\n",
    "\n",
    "mean_val = np.mean(y)\n",
    "median_val = np.median(y)\n",
    "plt.axhline(mean_val, color='red', linestyle='-', linewidth=2, label=f'Median: {median_val:.0f}', alpha=0.7)\n",
    "plt.xlabel('Item', fontsize=12)\n",
    "plt.ylabel('Number of reviews', fontsize=12)\n",
    "\n",
    "plt.legend(loc='upper left', frameon=True, shadow=True, fontsize=10)\n",
    "\n",
    "plt.savefig('item_rating_distribution.png')\n",
    "plt.show()\n"
   ]
  },
  {
   "cell_type": "code",
   "execution_count": null,
   "metadata": {},
   "outputs": [
    {
     "data": {
      "image/png": "[encoded data removed]",
      "text/plain": [
       "<Figure size 800x500 with 1 Axes>"
      ]
     },
     "metadata": {},
     "output_type": "display_data"
    }
   ],
   "source": [
    "import matplotlib.pyplot as plt\n",
    "import numpy as np\n",
    "\n",
    "plt.figure(figsize=(8, 5))\n",
    "\n",
    "y = user_rating_distributions['train_rating_count'].sort_values(ascending=True)\n",
    "\n",
    "plt.bar([i + 1 for i in range(len(y))], y, label=\"Rating Count\", color=\"darkgreen\", alpha=0.7)\n",
    "\n",
    "mean_val = np.mean(y)\n",
    "median_val = np.median(y)\n",
    "plt.axhline(mean_val, color='black', linestyle='-', linewidth=2, label=f'Median: {median_val:.0f}', alpha=0.7)\n",
    "plt.xlabel('User', fontsize=12)\n",
    "plt.ylabel('Number of reviews', fontsize=12)\n",
    "\n",
    "plt.legend(loc='upper left', frameon=True, shadow=True, fontsize=10)\n",
    "\n",
    "plt.savefig('user_rating_distribution.png')\n",
    "plt.show()\n"
   ]
  },
  {
   "cell_type": "code",
   "execution_count": 19,
   "metadata": {},
   "outputs": [
    {
     "data": {
      "text/plain": [
       "509"
      ]
     },
     "execution_count": 19,
     "metadata": {},
     "output_type": "execute_result"
    }
   ],
   "source": [
    "len(train['item_id'].unique())"
   ]
  },
  {
   "cell_type": "code",
   "execution_count": 20,
   "metadata": {},
   "outputs": [
    {
     "name": "stdout",
     "output_type": "stream",
     "text": [
      "9913\n"
     ]
    },
    {
     "data": {
      "text/plain": [
       "0.9756556974459725"
      ]
     },
     "execution_count": 20,
     "metadata": {},
     "output_type": "execute_result"
    }
   ],
   "source": [
    "# Number of observed interactions\n",
    "num_interactions = len(train)\n",
    "\n",
    "# Number of unique users and items\n",
    "num_users = train['user_id'].nunique()\n",
    "num_items = train['item_id'].nunique()\n",
    "\n",
    "# Total possible interactions\n",
    "total_possible = num_users * num_items\n",
    "print(num_interactions)\n",
    "# Sparsity\n",
    "sparsity = 1 - (num_interactions / total_possible)\n",
    "sparsity"
   ]
  },
  {
   "cell_type": "markdown",
   "metadata": {},
   "source": [
    "# Frequency and ratings - top 5"
   ]
  },
  {
   "cell_type": "code",
   "execution_count": 21,
   "metadata": {},
   "outputs": [
    {
     "data": {
      "text/html": [
       "<div>\n",
       "<style scoped>\n",
       "    .dataframe tbody tr th:only-of-type {\n",
       "        vertical-align: middle;\n",
       "    }\n",
       "\n",
       "    .dataframe tbody tr th {\n",
       "        vertical-align: top;\n",
       "    }\n",
       "\n",
       "    .dataframe thead th {\n",
       "        text-align: right;\n",
       "    }\n",
       "</style>\n",
       "<table border=\"1\" class=\"dataframe\">\n",
       "  <thead>\n",
       "    <tr style=\"text-align: right;\">\n",
       "      <th></th>\n",
       "      <th>frequency</th>\n",
       "      <th>average rating</th>\n",
       "    </tr>\n",
       "    <tr>\n",
       "      <th>item_id</th>\n",
       "      <th></th>\n",
       "      <th></th>\n",
       "    </tr>\n",
       "  </thead>\n",
       "  <tbody>\n",
       "    <tr>\n",
       "      <th>B0BSGM6CQ9</th>\n",
       "      <td>153</td>\n",
       "      <td>4.689873</td>\n",
       "    </tr>\n",
       "    <tr>\n",
       "      <th>B0BPJ4Q6FJ</th>\n",
       "      <td>153</td>\n",
       "      <td>4.737179</td>\n",
       "    </tr>\n",
       "    <tr>\n",
       "      <th>B09857JRP2</th>\n",
       "      <td>141</td>\n",
       "      <td>4.769231</td>\n",
       "    </tr>\n",
       "    <tr>\n",
       "      <th>B0BCK6L7S5</th>\n",
       "      <td>120</td>\n",
       "      <td>4.303030</td>\n",
       "    </tr>\n",
       "    <tr>\n",
       "      <th>B0BTC9YJ2W</th>\n",
       "      <td>119</td>\n",
       "      <td>4.737705</td>\n",
       "    </tr>\n",
       "    <tr>\n",
       "      <th>B08R5GM6YB</th>\n",
       "      <td>116</td>\n",
       "      <td>4.504065</td>\n",
       "    </tr>\n",
       "    <tr>\n",
       "      <th>B0B95V41NR</th>\n",
       "      <td>92</td>\n",
       "      <td>4.706522</td>\n",
       "    </tr>\n",
       "    <tr>\n",
       "      <th>B004XNK7AI</th>\n",
       "      <td>85</td>\n",
       "      <td>4.629213</td>\n",
       "    </tr>\n",
       "    <tr>\n",
       "      <th>B08SJY4T7K</th>\n",
       "      <td>84</td>\n",
       "      <td>4.200000</td>\n",
       "    </tr>\n",
       "    <tr>\n",
       "      <th>B09V91H5XM</th>\n",
       "      <td>83</td>\n",
       "      <td>4.647059</td>\n",
       "    </tr>\n",
       "  </tbody>\n",
       "</table>\n",
       "</div>"
      ],
      "text/plain": [
       "            frequency  average rating\n",
       "item_id                              \n",
       "B0BSGM6CQ9        153        4.689873\n",
       "B0BPJ4Q6FJ        153        4.737179\n",
       "B09857JRP2        141        4.769231\n",
       "B0BCK6L7S5        120        4.303030\n",
       "B0BTC9YJ2W        119        4.737705\n",
       "B08R5GM6YB        116        4.504065\n",
       "B0B95V41NR         92        4.706522\n",
       "B004XNK7AI         85        4.629213\n",
       "B08SJY4T7K         84        4.200000\n",
       "B09V91H5XM         83        4.647059"
      ]
     },
     "execution_count": 21,
     "metadata": {},
     "output_type": "execute_result"
    }
   ],
   "source": [
    "freq = train.groupby('item_id')['rating'].apply(\n",
    "    lambda x: (x >= 3).sum()\n",
    "    )\n",
    "new_pd = pd.DataFrame(freq.sort_values(ascending=False)[:10])\n",
    "new_pd = new_pd.rename(columns={'rating': 'frequency'})\n",
    "new_pd['average rating'] = item_rating_distributions['train_rating_mean'].reindex(new_pd.index)\n",
    "new_pd"
   ]
  }
 ],
 "metadata": {
  "kernelspec": {
   "display_name": "WRSLabs",
   "language": "python",
   "name": "python3"
  },
  "language_info": {
   "codemirror_mode": {
    "name": "ipython",
    "version": 3
   },
   "file_extension": ".py",
   "mimetype": "text/x-python",
   "name": "python",
   "nbconvert_exporter": "python",
   "pygments_lexer": "ipython3",
   "version": "3.10.0"
  }
 },
 "nbformat": 4,
 "nbformat_minor": 2
}
